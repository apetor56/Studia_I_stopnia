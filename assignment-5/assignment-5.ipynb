{
 "cells": [
  {
   "cell_type": "markdown",
   "metadata": {},
   "source": [
    "When exploring a large set of documents -- such as Wikipedia, news articles, StackOverflow, etc. -- it can be useful to get a list of related material. To find relevant documents you typically\n",
    "* Decide on a notion of similarity\n",
    "* Find the documents that are most similar \n",
    "\n",
    "In the assignment you will\n",
    "* Gain intuition for different notions of similarity and practice finding similar documents. \n",
    "* Explore the tradeoffs with representing documents using raw word counts and TF-IDF\n",
    "* Explore the behavior of different distance metrics by looking at the Wikipedia pages most similar to President Obamaâs page."
   ]
  },
  {
   "cell_type": "code",
   "execution_count": 1,
   "metadata": {
    "collapsed": false,
    "jupyter": {
     "outputs_hidden": false
    }
   },
   "outputs": [],
   "source": [
    "import matplotlib.pyplot as plt\n",
    "import numpy as np\n",
    "import pandas as pd\n",
    "%matplotlib inline"
   ]
  },
  {
   "cell_type": "markdown",
   "metadata": {},
   "source": [
    "## Load Wikipedia dataset"
   ]
  },
  {
   "cell_type": "markdown",
   "metadata": {},
   "source": [
    "We will be using the dataset of abridged Wikipedia pages. Each element of the dataset consists of a link to the wikipedia article, the name of the person, and the text of the article (in lowercase).  "
   ]
  },
  {
   "cell_type": "code",
   "execution_count": 2,
   "metadata": {
    "collapsed": false,
    "jupyter": {
     "outputs_hidden": false
    }
   },
   "outputs": [
    {
     "data": {
      "text/html": "<div>\n<style scoped>\n    .dataframe tbody tr th:only-of-type {\n        vertical-align: middle;\n    }\n\n    .dataframe tbody tr th {\n        vertical-align: top;\n    }\n\n    .dataframe thead th {\n        text-align: right;\n    }\n</style>\n<table border=\"1\" class=\"dataframe\">\n  <thead>\n    <tr style=\"text-align: right;\">\n      <th></th>\n      <th>URI</th>\n      <th>name</th>\n      <th>text</th>\n    </tr>\n  </thead>\n  <tbody>\n    <tr>\n      <th>0</th>\n      <td>&lt;http://dbpedia.org/resource/Digby_Morrell&gt;</td>\n      <td>Digby Morrell</td>\n      <td>digby morrell born 10 october 1979 is a former...</td>\n    </tr>\n    <tr>\n      <th>1</th>\n      <td>&lt;http://dbpedia.org/resource/Alfred_J._Lewy&gt;</td>\n      <td>Alfred J. Lewy</td>\n      <td>alfred j lewy aka sandy lewy graduated from un...</td>\n    </tr>\n    <tr>\n      <th>2</th>\n      <td>&lt;http://dbpedia.org/resource/Harpdog_Brown&gt;</td>\n      <td>Harpdog Brown</td>\n      <td>harpdog brown is a singer and harmonica player...</td>\n    </tr>\n    <tr>\n      <th>3</th>\n      <td>&lt;http://dbpedia.org/resource/Franz_Rottensteiner&gt;</td>\n      <td>Franz Rottensteiner</td>\n      <td>franz rottensteiner born in waidmannsfeld lowe...</td>\n    </tr>\n    <tr>\n      <th>4</th>\n      <td>&lt;http://dbpedia.org/resource/G-Enka&gt;</td>\n      <td>G-Enka</td>\n      <td>henry krvits born 30 december 1974 in tallinn ...</td>\n    </tr>\n  </tbody>\n</table>\n</div>",
      "text/plain": "                                                 URI                 name  \\\n0        <http://dbpedia.org/resource/Digby_Morrell>        Digby Morrell   \n1       <http://dbpedia.org/resource/Alfred_J._Lewy>       Alfred J. Lewy   \n2        <http://dbpedia.org/resource/Harpdog_Brown>        Harpdog Brown   \n3  <http://dbpedia.org/resource/Franz_Rottensteiner>  Franz Rottensteiner   \n4               <http://dbpedia.org/resource/G-Enka>               G-Enka   \n\n                                                text  \n0  digby morrell born 10 october 1979 is a former...  \n1  alfred j lewy aka sandy lewy graduated from un...  \n2  harpdog brown is a singer and harmonica player...  \n3  franz rottensteiner born in waidmannsfeld lowe...  \n4  henry krvits born 30 december 1974 in tallinn ...  "
     },
     "execution_count": 2,
     "metadata": {},
     "output_type": "execute_result"
    }
   ],
   "source": [
    "wiki = pd.read_csv('people_wiki.csv')\n",
    "wiki.head()"
   ]
  },
  {
   "cell_type": "markdown",
   "metadata": {},
   "source": [
    "If you want to check whether the text on the webpage agrees with the one here, you can display it with the following code:"
   ]
  },
  {
   "cell_type": "code",
   "execution_count": 3,
   "metadata": {
    "collapsed": true
   },
   "outputs": [
    {
     "name": "stdout",
     "output_type": "stream",
     "text": [
      "digby morrell born 10 october 1979 is a former australian rules footballer who played with the kangaroos and carlton in the australian football league aflfrom western australia morrell played his early senior football for west perth his 44game senior career for the falcons spanned 19982000 and he was the clubs leading goalkicker in 2000 at the age of 21 morrell was recruited to the australian football league by the kangaroos football club with its third round selection in the 2001 afl rookie draft as a forward he twice kicked five goals during his time with the kangaroos the first was in a losing cause against sydney in 2002 and the other the following season in a drawn game against brisbaneafter the 2003 season morrell was traded along with david teague to the carlton football club in exchange for corey mckernan he played 32 games for the blues before being delisted at the end of 2005 he continued to play victorian football league vfl football with the northern bullants carltons vflaffiliate in 2006 and acted as playing assistant coach in 2007 in 2008 he shifted to the box hill hawks before retiring from playing at the end of the season from 2009 until 2013 morrell was the senior coach of the strathmore football club in the essendon district football league leading the club to the 2011 premier division premiership since 2014 he has coached the west coburg football club also in the edflhe currently teaches physical education at parade college in melbourne\n"
     ]
    }
   ],
   "source": [
    "from IPython.display import HTML\r\n",
    "print(wiki['text'][0])\r\n",
    "# HTML(url=wiki['URI'][0])"
   ]
  },
  {
   "cell_type": "markdown",
   "metadata": {},
   "source": [
    "## Ex. 1: Extract word count vectors"
   ]
  },
  {
   "cell_type": "markdown",
   "metadata": {},
   "source": [
    "As we have seen in Assignment 4, we can extract word count vectors using `CountVectorizer` function.\n",
    "- make sure you include words of unit length by using the parameter: `token_pattern=r\"(?u)\\b\\w+\\b\"`\n",
    "- do not use any stopwords\n",
    "- take 10000 most frequent words in the corpus\n",
    "- explicitly take all the words independent of in how many documents they occur\n",
    "- obtain the matrix of word counts"
   ]
  },
  {
   "cell_type": "code",
   "execution_count": 4,
   "metadata": {
    "collapsed": true
   },
   "outputs": [],
   "source": [
    "from sklearn.feature_extraction.text import CountVectorizer\r\n",
    "\r\n",
    "vectorizer = CountVectorizer(\r\n",
    "    token_pattern=r\"(?u)\\b\\w+\\b\",\r\n",
    "    stop_words=None,\r\n",
    "    max_features=10000\r\n",
    ")\r\n",
    "WCmatrix = vectorizer.fit_transform(wiki['text'])"
   ]
  },
  {
   "cell_type": "markdown",
   "metadata": {},
   "source": [
    "## Ex. 2: Find nearest neighbors"
   ]
  },
  {
   "cell_type": "markdown",
   "metadata": {},
   "source": [
    "**a)** Start by finding the nearest neighbors of the Barack Obama page using the above word count matrix to represent the articles and **Euclidean** distance to measure distance.\n",
    "Save the distances in `wiki['BO-eucl']` and look at the top 10 nearest neighbors."
   ]
  },
  {
   "cell_type": "code",
   "execution_count": 5,
   "metadata": {
    "collapsed": true
   },
   "outputs": [
    {
     "data": {
      "text/html": "<div>\n<style scoped>\n    .dataframe tbody tr th:only-of-type {\n        vertical-align: middle;\n    }\n\n    .dataframe tbody tr th {\n        vertical-align: top;\n    }\n\n    .dataframe thead th {\n        text-align: right;\n    }\n</style>\n<table border=\"1\" class=\"dataframe\">\n  <thead>\n    <tr style=\"text-align: right;\">\n      <th></th>\n      <th>URI</th>\n      <th>name</th>\n      <th>text</th>\n      <th>BO-eucl</th>\n    </tr>\n  </thead>\n  <tbody>\n    <tr>\n      <th>35817</th>\n      <td>&lt;http://dbpedia.org/resource/Barack_Obama&gt;</td>\n      <td>Barack Obama</td>\n      <td>barack hussein obama ii brk husen bm born augu...</td>\n      <td>0.000000</td>\n    </tr>\n    <tr>\n      <th>24478</th>\n      <td>&lt;http://dbpedia.org/resource/Joe_Biden&gt;</td>\n      <td>Joe Biden</td>\n      <td>joseph robinette joe biden jr dosf rbnt badn b...</td>\n      <td>31.336879</td>\n    </tr>\n    <tr>\n      <th>28447</th>\n      <td>&lt;http://dbpedia.org/resource/George_W._Bush&gt;</td>\n      <td>George W. Bush</td>\n      <td>george walker bush born july 6 1946 is an amer...</td>\n      <td>33.645208</td>\n    </tr>\n    <tr>\n      <th>48202</th>\n      <td>&lt;http://dbpedia.org/resource/Tony_Vaccaro&gt;</td>\n      <td>Tony Vaccaro</td>\n      <td>michelantonio celestino onofrio vaccaro born d...</td>\n      <td>33.734256</td>\n    </tr>\n    <tr>\n      <th>14754</th>\n      <td>&lt;http://dbpedia.org/resource/Mitt_Romney&gt;</td>\n      <td>Mitt Romney</td>\n      <td>willard mitt romney born march 12 1947 is an a...</td>\n      <td>34.351128</td>\n    </tr>\n    <tr>\n      <th>31423</th>\n      <td>&lt;http://dbpedia.org/resource/Walter_Mondale&gt;</td>\n      <td>Walter Mondale</td>\n      <td>walter frederick fritz mondale born january 5 ...</td>\n      <td>34.423829</td>\n    </tr>\n    <tr>\n      <th>36364</th>\n      <td>&lt;http://dbpedia.org/resource/Don_Bonker&gt;</td>\n      <td>Don Bonker</td>\n      <td>don leroy bonker born march 7 1937 in denver c...</td>\n      <td>34.597688</td>\n    </tr>\n    <tr>\n      <th>13229</th>\n      <td>&lt;http://dbpedia.org/resource/Francisco_Barrio&gt;</td>\n      <td>Francisco Barrio</td>\n      <td>francisco javier barrio terrazas born november...</td>\n      <td>34.669872</td>\n    </tr>\n    <tr>\n      <th>35357</th>\n      <td>&lt;http://dbpedia.org/resource/Lawrence_Summers&gt;</td>\n      <td>Lawrence Summers</td>\n      <td>lawrence henry larry summers born november 30 ...</td>\n      <td>35.383612</td>\n    </tr>\n    <tr>\n      <th>25258</th>\n      <td>&lt;http://dbpedia.org/resource/Marc_Ravalomanana&gt;</td>\n      <td>Marc Ravalomanana</td>\n      <td>marc ravalomanana malagasy ravalumanan born 12...</td>\n      <td>35.440090</td>\n    </tr>\n  </tbody>\n</table>\n</div>",
      "text/plain": "                                                   URI               name  \\\n35817       <http://dbpedia.org/resource/Barack_Obama>       Barack Obama   \n24478          <http://dbpedia.org/resource/Joe_Biden>          Joe Biden   \n28447     <http://dbpedia.org/resource/George_W._Bush>     George W. Bush   \n48202       <http://dbpedia.org/resource/Tony_Vaccaro>       Tony Vaccaro   \n14754        <http://dbpedia.org/resource/Mitt_Romney>        Mitt Romney   \n31423     <http://dbpedia.org/resource/Walter_Mondale>     Walter Mondale   \n36364         <http://dbpedia.org/resource/Don_Bonker>         Don Bonker   \n13229   <http://dbpedia.org/resource/Francisco_Barrio>   Francisco Barrio   \n35357   <http://dbpedia.org/resource/Lawrence_Summers>   Lawrence Summers   \n25258  <http://dbpedia.org/resource/Marc_Ravalomanana>  Marc Ravalomanana   \n\n                                                    text    BO-eucl  \n35817  barack hussein obama ii brk husen bm born augu...   0.000000  \n24478  joseph robinette joe biden jr dosf rbnt badn b...  31.336879  \n28447  george walker bush born july 6 1946 is an amer...  33.645208  \n48202  michelantonio celestino onofrio vaccaro born d...  33.734256  \n14754  willard mitt romney born march 12 1947 is an a...  34.351128  \n31423  walter frederick fritz mondale born january 5 ...  34.423829  \n36364  don leroy bonker born march 7 1937 in denver c...  34.597688  \n13229  francisco javier barrio terrazas born november...  34.669872  \n35357  lawrence henry larry summers born november 30 ...  35.383612  \n25258  marc ravalomanana malagasy ravalumanan born 12...  35.440090  "
     },
     "execution_count": 5,
     "metadata": {},
     "output_type": "execute_result"
    }
   ],
   "source": [
    "# One can use the following:\r\n",
    "    # from sklearn.neighbors import NearestNeighbors\r\n",
    "    # nbrs = NearestNeighbors(n_neighbors=3, algorithm='brute',metric='euclidean').fit(X.toarray())\r\n",
    "    # distances, indices = nbrs.kneighbors(X.toarray())\r\n",
    "# but here let's use:\r\n",
    "from sklearn.metrics import pairwise_distances\r\n",
    "\r\n",
    "vObama = WCmatrix[wiki[wiki.name == 'Barack Obama'].index]\r\n",
    "dist = pairwise_distances(vObama, WCmatrix)\r\n",
    "# Your code goes here\r\n",
    "\r\n",
    "wiki['BO-eucl'] = dist.T\r\n",
    "wiki.sort_values(by='BO-eucl')[:10]\r\n"
   ]
  },
  {
   "cell_type": "markdown",
   "metadata": {},
   "source": [
    "**b)** Measure the pairwise distance between the Wikipedia pages of Barack Obama, George W. Bush, and Joe Biden. Which of the three pairs has the smallest distance?"
   ]
  },
  {
   "cell_type": "code",
   "execution_count": 6,
   "metadata": {
    "collapsed": false
   },
   "outputs": [
    {
     "name": "stdout",
     "output_type": "stream",
     "text": [
      "Barack Obama and Joe Biden:  30.919249667480614\n",
      "Barack Obama and George W. Bush:  31.336879231984796\n",
      "Joe Biden and George W. Bush:  33.645207682521445\n",
      "\n",
      "Smallest distance is between Barack Obama and Joe Biden.\n"
     ]
    }
   ],
   "source": [
    "# Your code goes here\r\n",
    "\r\n",
    "dist = pairwise_distances(WCmatrix[wiki[(wiki.name == 'Barack Obama') | (wiki.name == 'Joe Biden') | (wiki.name == 'George W. Bush')].index])\r\n",
    "print('Barack Obama and Joe Biden: ', dist[1, 0])\r\n",
    "print('Barack Obama and George W. Bush: ', dist[2, 0])\r\n",
    "print('Joe Biden and George W. Bush: ', dist[2, 1])\r\n",
    "print('\\nSmallest distance is between Barack Obama and Joe Biden.')"
   ]
  },
  {
   "cell_type": "markdown",
   "metadata": {},
   "source": [
    "All of the 10 people from **a)** are politicians, but about half of them have rather tenuous connections with Obama, other than the fact that they are politicians, e.g.,\n",
    "\n",
    "* Francisco Barrio is a Mexican politician, and a former governor of Chihuahua.\n",
    "* Walter Mondale and Don Bonker are Democrats who made their career in late 1970s.\n",
    "\n",
    "Nearest neighbors with raw word counts got some things right, showing all politicians in the query result, but missed finer and important details."
   ]
  },
  {
   "cell_type": "markdown",
   "metadata": {},
   "source": [
    "**c)** Let's find out why Francisco Barrio was considered a close neighbor of Obama.\n",
    "To do this, look at the most frequently used words in each of Barack Obama and Francisco Barrio's pages."
   ]
  },
  {
   "cell_type": "code",
   "execution_count": 7,
   "metadata": {
    "collapsed": true
   },
   "outputs": [],
   "source": [
    "def top_words(name):\r\n",
    "    \"\"\"\r\n",
    "    Get a table of the most frequent words in the given person's wikipedia page.\r\n",
    "    \"\"\"\r\n",
    "    # Your code goes here\r\n",
    "    df = pd.DataFrame(wiki[wiki.name == name].text.values[0].split(), columns=['word'])\r\n",
    "    count = df.word.value_counts()\r\n",
    "    df = count.to_frame('count')\r\n",
    "    return df.sort_values(by='count',ascending=False)"
   ]
  },
  {
   "cell_type": "code",
   "execution_count": 10,
   "metadata": {
    "collapsed": false,
    "jupyter": {
     "outputs_hidden": false
    }
   },
   "outputs": [
    {
     "data": {
      "text/html": "<div>\n<style scoped>\n    .dataframe tbody tr th:only-of-type {\n        vertical-align: middle;\n    }\n\n    .dataframe tbody tr th {\n        vertical-align: top;\n    }\n\n    .dataframe thead th {\n        text-align: right;\n    }\n</style>\n<table border=\"1\" class=\"dataframe\">\n  <thead>\n    <tr style=\"text-align: right;\">\n      <th></th>\n      <th>count</th>\n    </tr>\n  </thead>\n  <tbody>\n    <tr>\n      <th>the</th>\n      <td>40</td>\n    </tr>\n    <tr>\n      <th>in</th>\n      <td>30</td>\n    </tr>\n    <tr>\n      <th>and</th>\n      <td>21</td>\n    </tr>\n    <tr>\n      <th>of</th>\n      <td>18</td>\n    </tr>\n    <tr>\n      <th>to</th>\n      <td>14</td>\n    </tr>\n    <tr>\n      <th>...</th>\n      <td>...</td>\n    </tr>\n    <tr>\n      <th>budget</th>\n      <td>1</td>\n    </tr>\n    <tr>\n      <th>taxpayer</th>\n      <td>1</td>\n    </tr>\n    <tr>\n      <th>2012obama</th>\n      <td>1</td>\n    </tr>\n    <tr>\n      <th>reelected</th>\n      <td>1</td>\n    </tr>\n    <tr>\n      <th>cuba</th>\n      <td>1</td>\n    </tr>\n  </tbody>\n</table>\n<p>273 rows × 1 columns</p>\n</div>",
      "text/plain": "           count\nthe           40\nin            30\nand           21\nof            18\nto            14\n...          ...\nbudget         1\ntaxpayer       1\n2012obama      1\nreelected      1\ncuba           1\n\n[273 rows x 1 columns]"
     },
     "execution_count": 10,
     "metadata": {},
     "output_type": "execute_result"
    }
   ],
   "source": [
    "obama_words = top_words('Barack Obama')\n",
    "obama_words"
   ]
  },
  {
   "cell_type": "code",
   "execution_count": 8,
   "metadata": {
    "collapsed": false
   },
   "outputs": [
    {
     "data": {
      "text/html": "<div>\n<style scoped>\n    .dataframe tbody tr th:only-of-type {\n        vertical-align: middle;\n    }\n\n    .dataframe tbody tr th {\n        vertical-align: top;\n    }\n\n    .dataframe thead th {\n        text-align: right;\n    }\n</style>\n<table border=\"1\" class=\"dataframe\">\n  <thead>\n    <tr style=\"text-align: right;\">\n      <th></th>\n      <th>count</th>\n    </tr>\n  </thead>\n  <tbody>\n    <tr>\n      <th>the</th>\n      <td>36</td>\n    </tr>\n    <tr>\n      <th>of</th>\n      <td>24</td>\n    </tr>\n    <tr>\n      <th>and</th>\n      <td>18</td>\n    </tr>\n    <tr>\n      <th>in</th>\n      <td>17</td>\n    </tr>\n    <tr>\n      <th>he</th>\n      <td>10</td>\n    </tr>\n    <tr>\n      <th>...</th>\n      <td>...</td>\n    </tr>\n    <tr>\n      <th>due</th>\n      <td>1</td>\n    </tr>\n    <tr>\n      <th>actions</th>\n      <td>1</td>\n    </tr>\n    <tr>\n      <th>7</th>\n      <td>1</td>\n    </tr>\n    <tr>\n      <th>july</th>\n      <td>1</td>\n    </tr>\n    <tr>\n      <th>murders</th>\n      <td>1</td>\n    </tr>\n  </tbody>\n</table>\n<p>225 rows × 1 columns</p>\n</div>",
      "text/plain": "         count\nthe         36\nof          24\nand         18\nin          17\nhe          10\n...        ...\ndue          1\nactions      1\n7            1\njuly         1\nmurders      1\n\n[225 rows x 1 columns]"
     },
     "execution_count": 8,
     "metadata": {},
     "output_type": "execute_result"
    }
   ],
   "source": [
    "barrio_words = top_words('Francisco Barrio')\n",
    "barrio_words"
   ]
  },
  {
   "cell_type": "markdown",
   "metadata": {},
   "source": [
    "**d)** Extract the list of most frequent **common** words that appear in both Obama's and Barrio's documents and display the five words that appear most often in Barrio's article.\n",
    "\n",
    "Use a dataframe operation known as **join**. The **join** operation is very useful when it comes to playing around with data: it lets you combine the content of two tables using a shared column (in this case, the index column of words). See [the documentation](https://pandas.pydata.org/pandas-docs/stable/reference/api/pandas.DataFrame.join.html) for more details."
   ]
  },
  {
   "cell_type": "code",
   "execution_count": 11,
   "metadata": {
    "collapsed": false,
    "jupyter": {
     "outputs_hidden": false
    }
   },
   "outputs": [
    {
     "data": {
      "text/html": "<div>\n<style scoped>\n    .dataframe tbody tr th:only-of-type {\n        vertical-align: middle;\n    }\n\n    .dataframe tbody tr th {\n        vertical-align: top;\n    }\n\n    .dataframe thead th {\n        text-align: right;\n    }\n</style>\n<table border=\"1\" class=\"dataframe\">\n  <thead>\n    <tr style=\"text-align: right;\">\n      <th></th>\n      <th>count_Obama</th>\n      <th>count_Barrio</th>\n    </tr>\n  </thead>\n  <tbody>\n    <tr>\n      <th>the</th>\n      <td>40</td>\n      <td>36</td>\n    </tr>\n    <tr>\n      <th>of</th>\n      <td>18</td>\n      <td>24</td>\n    </tr>\n    <tr>\n      <th>and</th>\n      <td>21</td>\n      <td>18</td>\n    </tr>\n    <tr>\n      <th>in</th>\n      <td>30</td>\n      <td>17</td>\n    </tr>\n    <tr>\n      <th>he</th>\n      <td>7</td>\n      <td>10</td>\n    </tr>\n  </tbody>\n</table>\n</div>",
      "text/plain": "     count_Obama  count_Barrio\nthe           40            36\nof            18            24\nand           21            18\nin            30            17\nhe             7            10"
     },
     "execution_count": 11,
     "metadata": {},
     "output_type": "execute_result"
    }
   ],
   "source": [
    "# Modify the code to avoid error.\r\n",
    "\r\n",
    "common_words = obama_words.join(barrio_words, rsuffix='_Barrio')\r\n",
    "common_words.count_Barrio = common_words.count_Barrio.astype('Int64')\r\n",
    "common_words.rename(columns={'count': 'count_Obama'}, inplace=True)\r\n",
    "common_words.sort_values(by='count_Barrio', ascending=False).head(5)"
   ]
  },
  {
   "cell_type": "markdown",
   "metadata": {},
   "source": [
    "Collect all words that appear both in Barack Obama and George W. Bush pages.  Out of those words, find the 10 words that show up most often in Obama's page. "
   ]
  },
  {
   "cell_type": "code",
   "execution_count": 41,
   "metadata": {
    "collapsed": false
   },
   "outputs": [
    {
     "data": {
      "text/html": "<div>\n<style scoped>\n    .dataframe tbody tr th:only-of-type {\n        vertical-align: middle;\n    }\n\n    .dataframe tbody tr th {\n        vertical-align: top;\n    }\n\n    .dataframe thead th {\n        text-align: right;\n    }\n</style>\n<table border=\"1\" class=\"dataframe\">\n  <thead>\n    <tr style=\"text-align: right;\">\n      <th></th>\n      <th>count_Obama</th>\n      <th>count_Bush</th>\n    </tr>\n  </thead>\n  <tbody>\n    <tr>\n      <th>the</th>\n      <td>40</td>\n      <td>39</td>\n    </tr>\n    <tr>\n      <th>in</th>\n      <td>30</td>\n      <td>22</td>\n    </tr>\n    <tr>\n      <th>and</th>\n      <td>21</td>\n      <td>14</td>\n    </tr>\n    <tr>\n      <th>of</th>\n      <td>18</td>\n      <td>14</td>\n    </tr>\n    <tr>\n      <th>to</th>\n      <td>14</td>\n      <td>11</td>\n    </tr>\n    <tr>\n      <th>his</th>\n      <td>11</td>\n      <td>6</td>\n    </tr>\n    <tr>\n      <th>act</th>\n      <td>8</td>\n      <td>3</td>\n    </tr>\n    <tr>\n      <th>he</th>\n      <td>7</td>\n      <td>8</td>\n    </tr>\n    <tr>\n      <th>a</th>\n      <td>7</td>\n      <td>6</td>\n    </tr>\n    <tr>\n      <th>as</th>\n      <td>6</td>\n      <td>6</td>\n    </tr>\n  </tbody>\n</table>\n</div>",
      "text/plain": "     count_Obama  count_Bush\nthe           40          39\nin            30          22\nand           21          14\nof            18          14\nto            14          11\nhis           11           6\nact            8           3\nhe             7           8\na              7           6\nas             6           6"
     },
     "execution_count": 41,
     "metadata": {},
     "output_type": "execute_result"
    }
   ],
   "source": [
    "bush_words = top_words('George W. Bush')\r\n",
    "# Modify the code to avoid error.\r\n",
    "\r\n",
    "tmp_common_words = obama_words.join(bush_words, rsuffix=\"_Bush\")\r\n",
    "tmp_common_words.rename(columns={'count': 'count_Obama'}, inplace=True)\r\n",
    "tmp_common_words.count_Bush = tmp_common_words.count_Bush.astype('Int64')\r\n",
    "tmp_common_words = tmp_common_words.drop('obama')\r\n",
    "tmp_common_words.sort_values(by='count_Obama', ascending=False).head(10)"
   ]
  },
  {
   "cell_type": "markdown",
   "metadata": {},
   "source": [
    "**Note.** Even though common words are swamping out important subtle differences, commonalities in rarer political words still matter on the margin. This is why politicians are being listed in the query result instead of musicians, for example. In the next subsection, we will introduce a different metric that will place greater emphasis on those rarer words."
   ]
  },
  {
   "cell_type": "markdown",
   "metadata": {},
   "source": [
    "**e)** Among the words that appear in both Barack Obama and Francisco Barrio, take the 15 that appear most frequently in Obama. How many of the articles in the Wikipedia dataset contain all of those 15 words? Which are they?"
   ]
  },
  {
   "cell_type": "code",
   "execution_count": 12,
   "metadata": {
    "collapsed": false
   },
   "outputs": [
    {
     "name": "stdout",
     "output_type": "stream",
     "text": [
      "30\n"
     ]
    }
   ],
   "source": [
    "# It might be helpful to use:\r\n",
    "word_to_ind={v: i for i, v in enumerate(vectorizer.get_feature_names_out())} # a dictionary with words as keys and indices as values\r\n",
    "\r\n",
    "# Your code goes here\r\n",
    "\r\n",
    "tmp_common_words = obama_words.join(barrio_words, rsuffix=\"_Barrio\")\r\n",
    "tmp_common_words.dropna(inplace=True)\r\n",
    "\r\n",
    "obama_common = tmp_common_words.sort_values(by=\"count\", ascending=False).iloc[:15]\r\n",
    "articles = WCmatrix[:, [word_to_ind[word] for word in obama_common.index]]\r\n",
    "\r\n",
    "articles = [i for i, article in enumerate(articles) if article.todense().all()]\r\n",
    "print(len(articles))"
   ]
  },
  {
   "cell_type": "code",
   "execution_count": 13,
   "metadata": {
    "collapsed": false
   },
   "outputs": [
    {
     "data": {
      "text/plain": "1177                            Donald Fowler\n1413                            Chris Redfern\n3400                            James Bilbray\n4004                              Paul Kagame\n4874                            Bernard Kenny\n6617                               Paul Sarlo\n11316                Gy%C3%B6rgy Sur%C3%A1nyi\n12371                         Morley Winograd\n12743                 David Ibarra Mu%C3%B1oz\n13229                        Francisco Barrio\n16095    Charles Taylor (Liberian politician)\n24417                           Jesse Ventura\n24478                               Joe Biden\n28447                          George W. Bush\n29505                        Arturo Vallarino\n33744                        John O. Agwunobi\n35541                            Jimmy Carter\n35817                            Barack Obama\n36452                            Bill Clinton\n38081                          John Garamendi\n39489                          Helmut Anheier\n40229                            Edward Rowny\n42934      Henry Sanders (Alabama politician)\n48253                 Saber Hossain Chowdhury\n50868                           Russell Trood\n52229                     Robert Lewis Morgan\n53102                             Ewart Brown\n54765                 Chuck Wolfe (executive)\n55495                      Lokman Singh Karki\n56172                               Hu Jintao\nName: name, dtype: object"
     },
     "execution_count": 13,
     "metadata": {},
     "output_type": "execute_result"
    }
   ],
   "source": [
    "wiki['name'][articles]"
   ]
  },
  {
   "cell_type": "markdown",
   "metadata": {},
   "source": [
    "## Ex. 3: TF-IDF to the rescue"
   ]
  },
  {
   "cell_type": "markdown",
   "metadata": {},
   "source": [
    "Much of the perceived commonalities between Obama and Barrio were due to occurrences of extremely frequent words, such as \"the\", \"and\", and \"his\". So nearest neighbors is recommending plausible results sometimes for the wrong reasons.\n",
    "\n",
    "To retrieve articles that are more relevant, we should focus more on rare words that don't happen in every article. **TF-IDF** (term frequencyâinverse document frequency) is a feature representation that penalizes words that are too common."
   ]
  },
  {
   "cell_type": "markdown",
   "metadata": {},
   "source": [
    "**a)** Repeat the search for the 10 nearest neighbors of Barack Obama with Euclidean distance of TF-IDF. This time do not limit to only 10000 most frequent words, but take all of them."
   ]
  },
  {
   "cell_type": "code",
   "execution_count": 14,
   "metadata": {
    "collapsed": true
   },
   "outputs": [],
   "source": [
    "# We could use:\r\n",
    "    # from sklearn.feature_extraction.text import TfidfVectorizer\r\n",
    "# but since we already know how to compute CountVectorizer, let's use:\r\n",
    "from sklearn.feature_extraction.text import TfidfTransformer\r\n",
    "\r\n",
    "vectorizer = CountVectorizer(token_pattern=r\"(?u)\\b\\w+\\b\", stop_words=None)\r\n",
    "WCmatrix=vectorizer.fit_transform(wiki.text)\r\n",
    "\r\n",
    "tfidf=TfidfTransformer(smooth_idf=False, norm=None)\r\n",
    "TFIDFmatrix = tfidf.fit_transform(WCmatrix)"
   ]
  },
  {
   "cell_type": "code",
   "execution_count": 15,
   "metadata": {
    "collapsed": false
   },
   "outputs": [
    {
     "data": {
      "text/html": "<div>\n<style scoped>\n    .dataframe tbody tr th:only-of-type {\n        vertical-align: middle;\n    }\n\n    .dataframe tbody tr th {\n        vertical-align: top;\n    }\n\n    .dataframe thead th {\n        text-align: right;\n    }\n</style>\n<table border=\"1\" class=\"dataframe\">\n  <thead>\n    <tr style=\"text-align: right;\">\n      <th></th>\n      <th>name</th>\n      <th>BO-eucl-TF-IDF</th>\n    </tr>\n  </thead>\n  <tbody>\n    <tr>\n      <th>35817</th>\n      <td>Barack Obama</td>\n      <td>0.000000</td>\n    </tr>\n    <tr>\n      <th>38376</th>\n      <td>Samantha Power</td>\n      <td>139.364493</td>\n    </tr>\n    <tr>\n      <th>46811</th>\n      <td>Jeff Sessions</td>\n      <td>139.757740</td>\n    </tr>\n    <tr>\n      <th>7914</th>\n      <td>Phil Schiliro</td>\n      <td>139.812175</td>\n    </tr>\n    <tr>\n      <th>38714</th>\n      <td>Eric Stern (politician)</td>\n      <td>140.450064</td>\n    </tr>\n    <tr>\n      <th>6507</th>\n      <td>Bob Menendez</td>\n      <td>141.661111</td>\n    </tr>\n    <tr>\n      <th>44681</th>\n      <td>Jesse Lee (politician)</td>\n      <td>142.342440</td>\n    </tr>\n    <tr>\n      <th>6796</th>\n      <td>Eric Holder</td>\n      <td>142.490179</td>\n    </tr>\n    <tr>\n      <th>38495</th>\n      <td>Barney Frank</td>\n      <td>142.581337</td>\n    </tr>\n    <tr>\n      <th>56008</th>\n      <td>Nathan Cullen</td>\n      <td>142.751073</td>\n    </tr>\n  </tbody>\n</table>\n</div>",
      "text/plain": "                          name  BO-eucl-TF-IDF\n35817             Barack Obama        0.000000\n38376           Samantha Power      139.364493\n46811            Jeff Sessions      139.757740\n7914             Phil Schiliro      139.812175\n38714  Eric Stern (politician)      140.450064\n6507              Bob Menendez      141.661111\n44681   Jesse Lee (politician)      142.342440\n6796               Eric Holder      142.490179\n38495             Barney Frank      142.581337\n56008            Nathan Cullen      142.751073"
     },
     "execution_count": 15,
     "metadata": {},
     "output_type": "execute_result"
    }
   ],
   "source": [
    "# now recompute the distances as before but for TF-IDF\r\n",
    "dist = pairwise_distances(\r\n",
    "    TFIDFmatrix[wiki[wiki.name == \"Barack Obama\"].index],\r\n",
    "    TFIDFmatrix\r\n",
    ")\r\n",
    "# add the distances as a column in the wiki dataframe\r\n",
    "wiki['BO-eucl-TF-IDF'] = dist.T\r\n",
    "wiki[['name', 'BO-eucl-TF-IDF']].sort_values(by='BO-eucl-TF-IDF').iloc[:10]"
   ]
  },
  {
   "cell_type": "markdown",
   "metadata": {},
   "source": [
    "Let's determine whether this list makes sense.\n",
    "* With a notable exception of Nathan Cullen, the other 8 are all American politicians who are contemporaries of Barack Obama.\n",
    "* Phil Schiliro, Jesse Lee, Samantha Power, Eric Stern, Eric Holder worked for Obama.\n",
    "\n",
    "Clearly, the results are more plausible with the use of TF-IDF. Let's take a look at the word vector for Obama and Schilirio's pages. Notice that TF-IDF representation assigns a weight to each word. This weight captures relative importance of that word in the document."
   ]
  },
  {
   "cell_type": "markdown",
   "metadata": {},
   "source": [
    "**b)** Sort the words in Obama's article by their TF-IDF weights; do the same for Schiliro's article as well.\n",
    "Using the **join** operation we learned earlier, compute the common words shared by Obama's and Schiliro's articles.\n",
    "Sort the common words by their TF-IDF weights in Obama's document."
   ]
  },
  {
   "cell_type": "code",
   "execution_count": 16,
   "metadata": {
    "collapsed": true
   },
   "outputs": [],
   "source": [
    "def top_words_tf_idf(name):\r\n",
    "    \"\"\"\r\n",
    "    Get a table of the largest tf-idf words in the given person's wikipedia page.\r\n",
    "    \"\"\"\r\n",
    "    # Your code goes here\r\n",
    "    words = wiki[wiki.name == name].text.values[0].split()\r\n",
    "    word_to_ind = {v: i for i, v in enumerate(vectorizer.get_feature_names_out())}\r\n",
    "    weigth = [TFIDFmatrix[wiki[wiki.name == name].index][0, word_to_ind[word]] for word in words]\r\n",
    "\r\n",
    "    df = pd.Series(weigth, words).to_frame('tf-idf')\r\n",
    "    df.drop_duplicates(inplace=True)\r\n",
    "    \r\n",
    "    return df.sort_values(by='tf-idf',ascending=False)"
   ]
  },
  {
   "cell_type": "code",
   "execution_count": 17,
   "metadata": {
    "collapsed": false,
    "jupyter": {
     "outputs_hidden": false
    }
   },
   "outputs": [
    {
     "data": {
      "text/html": "<div>\n<style scoped>\n    .dataframe tbody tr th:only-of-type {\n        vertical-align: middle;\n    }\n\n    .dataframe tbody tr th {\n        vertical-align: top;\n    }\n\n    .dataframe thead th {\n        text-align: right;\n    }\n</style>\n<table border=\"1\" class=\"dataframe\">\n  <thead>\n    <tr style=\"text-align: right;\">\n      <th></th>\n      <th>tf-idf_Obama</th>\n      <th>tf-idf_Schiliro</th>\n    </tr>\n  </thead>\n  <tbody>\n    <tr>\n      <th>obama</th>\n      <td>52.295653</td>\n      <td>11.621256</td>\n    </tr>\n    <tr>\n      <th>the</th>\n      <td>40.004063</td>\n      <td>10.001016</td>\n    </tr>\n    <tr>\n      <th>in</th>\n      <td>30.028962</td>\n      <td>5.004827</td>\n    </tr>\n    <tr>\n      <th>and</th>\n      <td>21.015648</td>\n      <td>6.004471</td>\n    </tr>\n    <tr>\n      <th>law</th>\n      <td>20.722936</td>\n      <td>10.361468</td>\n    </tr>\n    <tr>\n      <th>of</th>\n      <td>18.074811</td>\n      <td>9.037406</td>\n    </tr>\n    <tr>\n      <th>democratic</th>\n      <td>16.410689</td>\n      <td>8.205344</td>\n    </tr>\n    <tr>\n      <th>to</th>\n      <td>14.657229</td>\n      <td>7.328615</td>\n    </tr>\n    <tr>\n      <th>his</th>\n      <td>13.888726</td>\n      <td>1.262611</td>\n    </tr>\n    <tr>\n      <th>senate</th>\n      <td>13.164288</td>\n      <td>4.388096</td>\n    </tr>\n    <tr>\n      <th>president</th>\n      <td>11.226869</td>\n      <td>14.033587</td>\n    </tr>\n    <tr>\n      <th>presidential</th>\n      <td>9.386955</td>\n      <td>4.693478</td>\n    </tr>\n    <tr>\n      <th>he</th>\n      <td>8.493580</td>\n      <td>13.347054</td>\n    </tr>\n    <tr>\n      <th>states</th>\n      <td>8.473201</td>\n      <td>2.824400</td>\n    </tr>\n    <tr>\n      <th>2011</th>\n      <td>8.107041</td>\n      <td>5.404694</td>\n    </tr>\n  </tbody>\n</table>\n</div>",
      "text/plain": "              tf-idf_Obama  tf-idf_Schiliro\nobama            52.295653        11.621256\nthe              40.004063        10.001016\nin               30.028962         5.004827\nand              21.015648         6.004471\nlaw              20.722936        10.361468\nof               18.074811         9.037406\ndemocratic       16.410689         8.205344\nto               14.657229         7.328615\nhis              13.888726         1.262611\nsenate           13.164288         4.388096\npresident        11.226869        14.033587\npresidential      9.386955         4.693478\nhe                8.493580        13.347054\nstates            8.473201         2.824400\n2011              8.107041         5.404694"
     },
     "execution_count": 17,
     "metadata": {},
     "output_type": "execute_result"
    }
   ],
   "source": [
    "obama_tf_idf = top_words_tf_idf('Barack Obama')\r\n",
    "schiliro_tf_idf = top_words_tf_idf('Phil Schiliro')\r\n",
    "\r\n",
    "common_words = obama_tf_idf.join(schiliro_tf_idf, rsuffix='_Schiliro')\r\n",
    "common_words.rename(columns={'tf-idf' : 'tf-idf_Obama'}, inplace=True)\r\n",
    "common_words.dropna(inplace=True)\r\n",
    "common_words.sort_values(by='tf-idf_Obama', ascending=False).head(15)"
   ]
  },
  {
   "cell_type": "markdown",
   "metadata": {},
   "source": [
    "**c)** Among the words that appear in both Barack Obama and Phil Schiliro, take the 15 that have largest weights in Obama. How many of the articles in the Wikipedia dataset contain all of those 15 words? Which are they?"
   ]
  },
  {
   "cell_type": "code",
   "execution_count": 19,
   "metadata": {
    "collapsed": false
   },
   "outputs": [
    {
     "name": "stdout",
     "output_type": "stream",
     "text": [
      "3\n"
     ]
    }
   ],
   "source": [
    "# It might be helpful to use:\r\n",
    "word_to_ind={v: i for i, v in enumerate(vectorizer.get_feature_names_out())} # a dictionary with words as keys and indices as values\r\n",
    "\r\n",
    "# Your code goes here\r\n",
    "\r\n",
    "common_words = obama_tf_idf.join(schiliro_tf_idf, rsuffix=\"_Barrio\")\r\n",
    "common_words.dropna(inplace=True)\r\n",
    "obama_common = common_words.sort_values(by=\"tf-idf\", ascending=False).iloc[:15]\r\n",
    "\r\n",
    "articles = WCmatrix[:, [word_to_ind[word] for word in obama_common.index]]\r\n",
    "articles = [i for i, article in enumerate(articles) if article.todense().all()]\r\n",
    "print(len(articles))"
   ]
  },
  {
   "cell_type": "code",
   "execution_count": 21,
   "metadata": {
    "collapsed": false
   },
   "outputs": [
    {
     "data": {
      "text/plain": "7914     Phil Schiliro\n24478        Joe Biden\n35817     Barack Obama\nName: name, dtype: object"
     },
     "execution_count": 21,
     "metadata": {},
     "output_type": "execute_result"
    }
   ],
   "source": [
    "wiki['name'][articles]"
   ]
  },
  {
   "cell_type": "markdown",
   "metadata": {},
   "source": [
    "Notice the huge difference in this calculation using TF-IDF scores instead  of raw word counts. We've eliminated noise arising from extremely common words."
   ]
  },
  {
   "cell_type": "markdown",
   "metadata": {},
   "source": [
    "## Ex. 4: Choosing metrics"
   ]
  },
  {
   "cell_type": "markdown",
   "metadata": {},
   "source": [
    "**a)** Compute the Euclidean distance between TF-IDF features of Obama and Biden."
   ]
  },
  {
   "cell_type": "code",
   "execution_count": 23,
   "metadata": {
    "collapsed": false
   },
   "outputs": [
    {
     "name": "stdout",
     "output_type": "stream",
     "text": [
      "Distance in Euclidean space:  148.7784541307789\n"
     ]
    }
   ],
   "source": [
    "dist = pairwise_distances(TFIDFmatrix[wiki[(wiki.name == 'Barack Obama') | (wiki.name == 'Joe Biden')].index])\r\n",
    "print('Distance in Euclidean space: ', dist[0, 1])"
   ]
  },
  {
   "cell_type": "markdown",
   "metadata": {},
   "source": [
    "The distance is larger than the distances we found for the 10 nearest neighbors, which we repeat here for readability:"
   ]
  },
  {
   "cell_type": "code",
   "execution_count": 24,
   "metadata": {
    "collapsed": false,
    "jupyter": {
     "outputs_hidden": false
    }
   },
   "outputs": [
    {
     "data": {
      "text/html": "<div>\n<style scoped>\n    .dataframe tbody tr th:only-of-type {\n        vertical-align: middle;\n    }\n\n    .dataframe tbody tr th {\n        vertical-align: top;\n    }\n\n    .dataframe thead th {\n        text-align: right;\n    }\n</style>\n<table border=\"1\" class=\"dataframe\">\n  <thead>\n    <tr style=\"text-align: right;\">\n      <th></th>\n      <th>name</th>\n      <th>BO-eucl-TF-IDF</th>\n    </tr>\n  </thead>\n  <tbody>\n    <tr>\n      <th>35817</th>\n      <td>Barack Obama</td>\n      <td>0.000000</td>\n    </tr>\n    <tr>\n      <th>38376</th>\n      <td>Samantha Power</td>\n      <td>139.364493</td>\n    </tr>\n    <tr>\n      <th>46811</th>\n      <td>Jeff Sessions</td>\n      <td>139.757740</td>\n    </tr>\n    <tr>\n      <th>7914</th>\n      <td>Phil Schiliro</td>\n      <td>139.812175</td>\n    </tr>\n    <tr>\n      <th>38714</th>\n      <td>Eric Stern (politician)</td>\n      <td>140.450064</td>\n    </tr>\n    <tr>\n      <th>6507</th>\n      <td>Bob Menendez</td>\n      <td>141.661111</td>\n    </tr>\n    <tr>\n      <th>44681</th>\n      <td>Jesse Lee (politician)</td>\n      <td>142.342440</td>\n    </tr>\n    <tr>\n      <th>6796</th>\n      <td>Eric Holder</td>\n      <td>142.490179</td>\n    </tr>\n    <tr>\n      <th>38495</th>\n      <td>Barney Frank</td>\n      <td>142.581337</td>\n    </tr>\n    <tr>\n      <th>56008</th>\n      <td>Nathan Cullen</td>\n      <td>142.751073</td>\n    </tr>\n  </tbody>\n</table>\n</div>",
      "text/plain": "                          name  BO-eucl-TF-IDF\n35817             Barack Obama        0.000000\n38376           Samantha Power      139.364493\n46811            Jeff Sessions      139.757740\n7914             Phil Schiliro      139.812175\n38714  Eric Stern (politician)      140.450064\n6507              Bob Menendez      141.661111\n44681   Jesse Lee (politician)      142.342440\n6796               Eric Holder      142.490179\n38495             Barney Frank      142.581337\n56008            Nathan Cullen      142.751073"
     },
     "execution_count": 24,
     "metadata": {},
     "output_type": "execute_result"
    }
   ],
   "source": [
    "wiki.sort_values(by='BO-eucl-TF-IDF',ascending=True)[['name','BO-eucl-TF-IDF']][0:10]"
   ]
  },
  {
   "cell_type": "markdown",
   "metadata": {},
   "source": [
    "But one may wonder, is Biden's article that different from Obama's, more so than, say, Schiliro's? It turns out that, when we compute nearest neighbors using the Euclidean distances, we unwittingly favor short articles over long ones."
   ]
  },
  {
   "cell_type": "markdown",
   "metadata": {},
   "source": [
    "**b)** Let us compute the length of each Wikipedia document, and examine the document lengths for the 100 nearest neighbors to Obama's page. To compute text length use the same splitting rules you used in `vectorizer`."
   ]
  },
  {
   "cell_type": "code",
   "execution_count": 26,
   "metadata": {
    "collapsed": false,
    "jupyter": {
     "outputs_hidden": false
    }
   },
   "outputs": [],
   "source": [
    "# tokenizer = # Your code goes here\r\n",
    "\r\n",
    "def compute_length(row):\r\n",
    "# Here we could use simply:\r\n",
    "    return len(row.split(' '))\r\n",
    "\r\n",
    "\r\n",
    "wiki['length'] = [compute_length(row) for row in wiki['text']]"
   ]
  },
  {
   "cell_type": "code",
   "execution_count": 27,
   "metadata": {
    "collapsed": false,
    "jupyter": {
     "outputs_hidden": false
    }
   },
   "outputs": [
    {
     "data": {
      "text/html": "<div>\n<style scoped>\n    .dataframe tbody tr th:only-of-type {\n        vertical-align: middle;\n    }\n\n    .dataframe tbody tr th {\n        vertical-align: top;\n    }\n\n    .dataframe thead th {\n        text-align: right;\n    }\n</style>\n<table border=\"1\" class=\"dataframe\">\n  <thead>\n    <tr style=\"text-align: right;\">\n      <th></th>\n      <th>name</th>\n      <th>length</th>\n      <th>BO-eucl-TF-IDF</th>\n    </tr>\n  </thead>\n  <tbody>\n    <tr>\n      <th>35817</th>\n      <td>Barack Obama</td>\n      <td>540</td>\n      <td>0.000000</td>\n    </tr>\n    <tr>\n      <th>38376</th>\n      <td>Samantha Power</td>\n      <td>310</td>\n      <td>139.364493</td>\n    </tr>\n    <tr>\n      <th>46811</th>\n      <td>Jeff Sessions</td>\n      <td>230</td>\n      <td>139.757740</td>\n    </tr>\n    <tr>\n      <th>7914</th>\n      <td>Phil Schiliro</td>\n      <td>208</td>\n      <td>139.812175</td>\n    </tr>\n    <tr>\n      <th>38714</th>\n      <td>Eric Stern (politician)</td>\n      <td>255</td>\n      <td>140.450064</td>\n    </tr>\n    <tr>\n      <th>...</th>\n      <td>...</td>\n      <td>...</td>\n      <td>...</td>\n    </tr>\n    <tr>\n      <th>12834</th>\n      <td>Mark Waller (judge)</td>\n      <td>211</td>\n      <td>146.796202</td>\n    </tr>\n    <tr>\n      <th>11303</th>\n      <td>Steven Weinberg</td>\n      <td>227</td>\n      <td>146.815087</td>\n    </tr>\n    <tr>\n      <th>8277</th>\n      <td>John M. Facciola</td>\n      <td>207</td>\n      <td>146.823495</td>\n    </tr>\n    <tr>\n      <th>11996</th>\n      <td>Thomas H. Jackson</td>\n      <td>216</td>\n      <td>146.836489</td>\n    </tr>\n    <tr>\n      <th>50366</th>\n      <td>Patrick Lipton Robinson</td>\n      <td>201</td>\n      <td>146.849274</td>\n    </tr>\n  </tbody>\n</table>\n<p>100 rows × 3 columns</p>\n</div>",
      "text/plain": "                          name  length  BO-eucl-TF-IDF\n35817             Barack Obama     540        0.000000\n38376           Samantha Power     310      139.364493\n46811            Jeff Sessions     230      139.757740\n7914             Phil Schiliro     208      139.812175\n38714  Eric Stern (politician)     255      140.450064\n...                        ...     ...             ...\n12834      Mark Waller (judge)     211      146.796202\n11303          Steven Weinberg     227      146.815087\n8277          John M. Facciola     207      146.823495\n11996        Thomas H. Jackson     216      146.836489\n50366  Patrick Lipton Robinson     201      146.849274\n\n[100 rows x 3 columns]"
     },
     "execution_count": 27,
     "metadata": {},
     "output_type": "execute_result"
    }
   ],
   "source": [
    "nearest_neighbors_euclidean = wiki.sort_values(by='BO-eucl-TF-IDF',ascending=True)[['name','length', 'BO-eucl-TF-IDF']][0:100]\r\n",
    "nearest_neighbors_euclidean"
   ]
  },
  {
   "cell_type": "markdown",
   "metadata": {},
   "source": [
    "**c)** To see how these document lengths compare to the lengths of other documents in the corpus, make a histogram of the document lengths of Obama's 100 nearest neighbors and compare to a histogram of document lengths for all documents."
   ]
  },
  {
   "cell_type": "code",
   "execution_count": 29,
   "metadata": {
    "collapsed": false,
    "jupyter": {
     "outputs_hidden": false
    }
   },
   "outputs": [
    {
     "data": {
      "image/png": "[encoded data removed]",
      "text/plain": "<Figure size 1050x450 with 1 Axes>"
     },
     "metadata": {},
     "output_type": "display_data"
    }
   ],
   "source": [
    "plt.figure(figsize=(10.5,4.5))\r\n",
    "\r\n",
    "plt.hist(\r\n",
    "        wiki.length,\r\n",
    "        range=[0, 1000],\r\n",
    "        color='black',\r\n",
    "        label='Entire Wikipedia',\r\n",
    "        density=True\r\n",
    ")\r\n",
    "\r\n",
    "plt.hist(\r\n",
    "        nearest_neighbors_euclidean.length,\r\n",
    "        color='red',\r\n",
    "        label='100 NNs of Obama (Euclidean)',\r\n",
    "        bins=50,\r\n",
    "        alpha=0.5,\r\n",
    "        density=True\r\n",
    ")\r\n",
    "\r\n",
    "\r\n",
    "plt.axvline(\r\n",
    "        wiki[wiki.name == 'Barack Obama'].length.values[0],\r\n",
    "        color='black',\r\n",
    "        label='Barack Obama',\r\n",
    "        linestyle='--',\r\n",
    "        linewidth=2.5\r\n",
    ")\r\n",
    "\r\n",
    "plt.axvline(\r\n",
    "        wiki[wiki.name == 'Joe Biden'].length.values[0],\r\n",
    "        color='green',\r\n",
    "        label='Joe Biden',\r\n",
    "        linestyle='--',\r\n",
    "        linewidth=2.5\r\n",
    ")\r\n",
    "\r\n",
    "# Your code goes here\r\n",
    "\r\n",
    "plt.xlabel(\"# of words\")\r\n",
    "plt.ylabel(\"Percentage\")\r\n",
    "plt.legend()\r\n",
    "plt.tight_layout()"
   ]
  },
  {
   "cell_type": "markdown",
   "metadata": {},
   "source": [
    "Relative to the rest of Wikipedia, nearest neighbors of Obama are overwhemingly short, most of them being shorter than 300 words. The bias towards short articles is not appropriate in this application as there is really no reason to  favor short articles over long articles (they are all Wikipedia articles, after all). Many of the Wikipedia articles are 300 words or more, and both Obama and Biden are over 300 words long.\n",
    "\n",
    "**Note**: For the interest of computation time, the dataset given here contains _excerpts_ of the articles rather than full text. For instance, the actual Wikipedia article about Obama is around 25000 words. Do not be surprised by the low numbers shown in the histogram."
   ]
  },
  {
   "cell_type": "markdown",
   "metadata": {},
   "source": [
    "**Note:** Both word-count features and TF-IDF are proportional to word frequencies. While TF-IDF penalizes very common words, longer articles tend to have longer TF-IDF vectors simply because they have more words in them."
   ]
  },
  {
   "cell_type": "markdown",
   "metadata": {},
   "source": [
    "To remove this bias, we turn to **cosine distances**:\n",
    "$$\n",
    "d(\\mathbf{x},\\mathbf{y}) = 1 - \\frac{\\mathbf{x}^T\\mathbf{y}}{\\|\\mathbf{x}\\| \\|\\mathbf{y}\\|}\n",
    "$$\n",
    "Cosine distances let us compare word distributions of two articles of varying lengths."
   ]
  },
  {
   "cell_type": "markdown",
   "metadata": {},
   "source": [
    "**d)** Train a new nearest neighbor model, this time with cosine distances.  Then repeat the search for Obama's 100 nearest neighbors and make a plot to better visualize the effect of having used cosine distance in place of Euclidean on our TF-IDF vectors."
   ]
  },
  {
   "cell_type": "code",
   "execution_count": 30,
   "metadata": {
    "collapsed": false,
    "jupyter": {
     "outputs_hidden": false
    }
   },
   "outputs": [
    {
     "data": {
      "text/html": "<div>\n<style scoped>\n    .dataframe tbody tr th:only-of-type {\n        vertical-align: middle;\n    }\n\n    .dataframe tbody tr th {\n        vertical-align: top;\n    }\n\n    .dataframe thead th {\n        text-align: right;\n    }\n</style>\n<table border=\"1\" class=\"dataframe\">\n  <thead>\n    <tr style=\"text-align: right;\">\n      <th></th>\n      <th>name</th>\n      <th>length</th>\n      <th>BO-cosine-TF-IDF</th>\n    </tr>\n  </thead>\n  <tbody>\n    <tr>\n      <th>35817</th>\n      <td>Barack Obama</td>\n      <td>540</td>\n      <td>0.000000</td>\n    </tr>\n    <tr>\n      <th>24478</th>\n      <td>Joe Biden</td>\n      <td>414</td>\n      <td>0.572725</td>\n    </tr>\n    <tr>\n      <th>57108</th>\n      <td>Hillary Rodham Clinton</td>\n      <td>580</td>\n      <td>0.616149</td>\n    </tr>\n    <tr>\n      <th>38376</th>\n      <td>Samantha Power</td>\n      <td>310</td>\n      <td>0.625797</td>\n    </tr>\n    <tr>\n      <th>38714</th>\n      <td>Eric Stern (politician)</td>\n      <td>255</td>\n      <td>0.651475</td>\n    </tr>\n    <tr>\n      <th>...</th>\n      <td>...</td>\n      <td>...</td>\n      <td>...</td>\n    </tr>\n    <tr>\n      <th>2045</th>\n      <td>Allan Ryan (attorney)</td>\n      <td>291</td>\n      <td>0.731376</td>\n    </tr>\n    <tr>\n      <th>47085</th>\n      <td>Ray Thornton</td>\n      <td>326</td>\n      <td>0.731908</td>\n    </tr>\n    <tr>\n      <th>16392</th>\n      <td>P%C3%A9ter Kov%C3%A1cs (lawyer)</td>\n      <td>365</td>\n      <td>0.732172</td>\n    </tr>\n    <tr>\n      <th>55495</th>\n      <td>Lokman Singh Karki</td>\n      <td>2486</td>\n      <td>0.732608</td>\n    </tr>\n    <tr>\n      <th>22304</th>\n      <td>Chung Dong-young</td>\n      <td>886</td>\n      <td>0.732785</td>\n    </tr>\n  </tbody>\n</table>\n<p>100 rows × 3 columns</p>\n</div>",
      "text/plain": "                                  name  length  BO-cosine-TF-IDF\n35817                     Barack Obama     540          0.000000\n24478                        Joe Biden     414          0.572725\n57108           Hillary Rodham Clinton     580          0.616149\n38376                   Samantha Power     310          0.625797\n38714          Eric Stern (politician)     255          0.651475\n...                                ...     ...               ...\n2045             Allan Ryan (attorney)     291          0.731376\n47085                     Ray Thornton     326          0.731908\n16392  P%C3%A9ter Kov%C3%A1cs (lawyer)     365          0.732172\n55495               Lokman Singh Karki    2486          0.732608\n22304                 Chung Dong-young     886          0.732785\n\n[100 rows x 3 columns]"
     },
     "execution_count": 30,
     "metadata": {},
     "output_type": "execute_result"
    }
   ],
   "source": [
    "# Your code goes here\r\n",
    "\r\n",
    "cosine_dist = pairwise_distances(TFIDFmatrix[wiki[wiki.name == 'Barack Obama'].index], TFIDFmatrix, metric='cosine')\r\n",
    "wiki['BO-cosine-TF-IDF'] = cosine_dist.T\r\n",
    "\r\n",
    "nearest_neighbors_cosine = wiki.sort_values(by='BO-cosine-TF-IDF', ascending=True)[['name', 'length', 'BO-cosine-TF-IDF']][:100]\r\n",
    "nearest_neighbors_cosine"
   ]
  },
  {
   "cell_type": "markdown",
   "metadata": {},
   "source": [
    "From a glance at the above table, things look better.  For example, we now see Joe Biden as Barack Obama's nearest neighbor!  We also see Hillary Clinton on the list.  This list looks even more plausible as nearest neighbors of Barack Obama."
   ]
  },
  {
   "cell_type": "code",
   "execution_count": 37,
   "metadata": {
    "collapsed": false,
    "jupyter": {
     "outputs_hidden": false
    }
   },
   "outputs": [
    {
     "data": {
      "image/png": "[encoded data removed]",
      "text/plain": "<Figure size 1050x450 with 1 Axes>"
     },
     "metadata": {},
     "output_type": "display_data"
    }
   ],
   "source": [
    "plt.figure(figsize=(10.5,4.5))\r\n",
    "\r\n",
    "plt.hist(\r\n",
    "        wiki.length,\r\n",
    "        range=[0, 1000],\r\n",
    "        color='black',\r\n",
    "        label='Entire Wikipedia',\r\n",
    "        density=True\r\n",
    ")\r\n",
    "\r\n",
    "plt.hist(\r\n",
    "        nearest_neighbors_euclidean.length,\r\n",
    "        color='red',\r\n",
    "        label='100 NNs of Obama (Euclidean)',\r\n",
    "        bins=50,\r\n",
    "        alpha=0.5,\r\n",
    "        density=True\r\n",
    ")\r\n",
    "\r\n",
    "plt.hist(\r\n",
    "        nearest_neighbors_cosine.length, \r\n",
    "        color='purple', \r\n",
    "        label='100 NNs of Obama (cosine)',\r\n",
    "        bins=50, \r\n",
    "        alpha=0.7, \r\n",
    "        density=True\r\n",
    ")\r\n",
    "\r\n",
    "plt.axvline(\r\n",
    "        wiki[wiki.name == 'Barack Obama'].length.values[0],\r\n",
    "        color='black',\r\n",
    "        label='Barack Obama',\r\n",
    "        linestyle='--',\r\n",
    "        linewidth=2.5\r\n",
    ")\r\n",
    "\r\n",
    "plt.axvline(\r\n",
    "        wiki[wiki.name == 'Joe Biden'].length.values[0],\r\n",
    "        color='green',\r\n",
    "        label='Joe Biden',\r\n",
    "        linestyle='--',\r\n",
    "        linewidth=2.5\r\n",
    ")\r\n",
    "\r\n",
    "# Your code goes here\r\n",
    "\r\n",
    "plt.xlabel(\"# of words\")\r\n",
    "plt.ylabel(\"Percentage\")\r\n",
    "plt.xlim([0, 1000])\r\n",
    "plt.legend()\r\n",
    "plt.tight_layout()"
   ]
  },
  {
   "cell_type": "markdown",
   "metadata": {},
   "source": [
    "Indeed, the 100 nearest neighbors using cosine distance provide a sampling across the range of document lengths, rather than just short articles like Euclidean distance provided."
   ]
  },
  {
   "cell_type": "markdown",
   "metadata": {},
   "source": [
    "**Moral of the story**: In deciding the features and distance measures, check if they produce results that make sense for your particular application."
   ]
  },
  {
   "cell_type": "markdown",
   "metadata": {},
   "source": [
    "## Ex. 5: Problem with cosine distances: tweets vs. long articles"
   ]
  },
  {
   "cell_type": "markdown",
   "metadata": {},
   "source": [
    "Happily ever after? Not so fast. Cosine distances ignore all document lengths, which may be great in certain situations but not in others. For instance, consider the following (admittedly contrived) example."
   ]
  },
  {
   "cell_type": "markdown",
   "metadata": {},
   "source": [
    "```\n",
    "+--------------------------------------------------------+\n",
    "|                                             +--------+ |\n",
    "|  One that shall not be named                | Follow | |\n",
    "|  @username                                  +--------+ |\n",
    "|                                                        |\n",
    "|  Democratic governments control law in response to     |\n",
    "|  popular act.                                          |\n",
    "|                                                        |\n",
    "|  8:05 AM - 16 May 2016                                 |\n",
    "|                                                        |\n",
    "|  Reply   Retweet (1,332)   Like (300)                  |\n",
    "|                                                        |\n",
    "+--------------------------------------------------------+\n",
    "```"
   ]
  },
  {
   "cell_type": "markdown",
   "metadata": {},
   "source": [
    "**a)** Transform the tweet into TF-IDF features, using the fit to the Wikipedia dataset. (That is, let's treat this tweet as an article in our Wikipedia dataset and see what happens.) How similar is this tweet to Barack Obama's Wikipedia article? "
   ]
  },
  {
   "cell_type": "code",
   "execution_count": 40,
   "metadata": {
    "collapsed": false
   },
   "outputs": [
    {
     "data": {
      "text/html": "<div>\n<style scoped>\n    .dataframe tbody tr th:only-of-type {\n        vertical-align: middle;\n    }\n\n    .dataframe tbody tr th {\n        vertical-align: top;\n    }\n\n    .dataframe thead th {\n        text-align: right;\n    }\n</style>\n<table border=\"1\" class=\"dataframe\">\n  <thead>\n    <tr style=\"text-align: right;\">\n      <th></th>\n      <th>count</th>\n      <th>tf_idf</th>\n    </tr>\n  </thead>\n  <tbody>\n    <tr>\n      <th>democratic</th>\n      <td>1</td>\n      <td>4.102672</td>\n    </tr>\n    <tr>\n      <th>governments</th>\n      <td>1</td>\n      <td>5.167571</td>\n    </tr>\n    <tr>\n      <th>control</th>\n      <td>1</td>\n      <td>4.721765</td>\n    </tr>\n    <tr>\n      <th>law</th>\n      <td>1</td>\n      <td>3.453823</td>\n    </tr>\n    <tr>\n      <th>in</th>\n      <td>1</td>\n      <td>1.000965</td>\n    </tr>\n    <tr>\n      <th>response</th>\n      <td>1</td>\n      <td>5.261462</td>\n    </tr>\n    <tr>\n      <th>to</th>\n      <td>1</td>\n      <td>1.046945</td>\n    </tr>\n    <tr>\n      <th>popular</th>\n      <td>1</td>\n      <td>3.764479</td>\n    </tr>\n    <tr>\n      <th>act</th>\n      <td>1</td>\n      <td>4.459778</td>\n    </tr>\n  </tbody>\n</table>\n</div>",
      "text/plain": "             count    tf_idf\ndemocratic       1  4.102672\ngovernments      1  5.167571\ncontrol          1  4.721765\nlaw              1  3.453823\nin               1  1.000965\nresponse         1  5.261462\nto               1  1.046945\npopular          1  3.764479\nact              1  4.459778"
     },
     "execution_count": 40,
     "metadata": {},
     "output_type": "execute_result"
    }
   ],
   "source": [
    "df = pd.DataFrame({'text': ['democratic governments control law in response to popular act']})\r\n",
    "\r\n",
    "# Your code goes here\r\n",
    "\r\n",
    "tfidfd = tfidf.transform(vectorizer.transform(df.text))\r\n",
    "\r\n",
    "words = df['text'].values[0].split()\r\n",
    "word_to_ind = {v : i for i, v in enumerate(vectorizer.get_feature_names_out())}\r\n",
    "weigth = [tfidfd[0, word_to_ind[word]] for word in words]\r\n",
    "count = [words.count(word) for word in words]\r\n",
    "\r\n",
    "data = {\"count\" : count, \"tf_idf\" : weigth}\r\n",
    "df = pd.DataFrame(data, index=words)\r\n",
    "df"
   ]
  },
  {
   "cell_type": "markdown",
   "metadata": {},
   "source": [
    "Let's compare this tweet's TF-IDF vectors  to Barack Obama's Wikipedia entry."
   ]
  },
  {
   "cell_type": "code",
   "execution_count": 41,
   "metadata": {
    "collapsed": false,
    "jupyter": {
     "outputs_hidden": false
    }
   },
   "outputs": [
    {
     "data": {
      "text/html": "<div>\n<style scoped>\n    .dataframe tbody tr th:only-of-type {\n        vertical-align: middle;\n    }\n\n    .dataframe tbody tr th {\n        vertical-align: top;\n    }\n\n    .dataframe thead th {\n        text-align: right;\n    }\n</style>\n<table border=\"1\" class=\"dataframe\">\n  <thead>\n    <tr style=\"text-align: right;\">\n      <th></th>\n      <th>tf-idf</th>\n    </tr>\n  </thead>\n  <tbody>\n    <tr>\n      <th>obama</th>\n      <td>52.295653</td>\n    </tr>\n    <tr>\n      <th>the</th>\n      <td>40.004063</td>\n    </tr>\n    <tr>\n      <th>act</th>\n      <td>35.678223</td>\n    </tr>\n    <tr>\n      <th>in</th>\n      <td>30.028962</td>\n    </tr>\n    <tr>\n      <th>iraq</th>\n      <td>21.747379</td>\n    </tr>\n    <tr>\n      <th>...</th>\n      <td>...</td>\n    </tr>\n    <tr>\n      <th>is</th>\n      <td>2.055233</td>\n    </tr>\n    <tr>\n      <th>new</th>\n      <td>1.887235</td>\n    </tr>\n    <tr>\n      <th>which</th>\n      <td>1.767431</td>\n    </tr>\n    <tr>\n      <th>that</th>\n      <td>1.661407</td>\n    </tr>\n    <tr>\n      <th>by</th>\n      <td>1.374553</td>\n    </tr>\n  </tbody>\n</table>\n<p>265 rows × 1 columns</p>\n</div>",
      "text/plain": "          tf-idf\nobama  52.295653\nthe    40.004063\nact    35.678223\nin     30.028962\niraq   21.747379\n...          ...\nis      2.055233\nnew     1.887235\nwhich   1.767431\nthat    1.661407\nby      1.374553\n\n[265 rows x 1 columns]"
     },
     "execution_count": 41,
     "metadata": {},
     "output_type": "execute_result"
    }
   ],
   "source": [
    "obama_tf_idf"
   ]
  },
  {
   "cell_type": "markdown",
   "metadata": {},
   "source": [
    "**b)** Now, compute the cosine distance between the Barack Obama article and this tweet:"
   ]
  },
  {
   "cell_type": "code",
   "execution_count": 42,
   "metadata": {
    "collapsed": false,
    "jupyter": {
     "outputs_hidden": false
    }
   },
   "outputs": [
    {
     "data": {
      "text/plain": "array([[0.69866453]])"
     },
     "execution_count": 42,
     "metadata": {},
     "output_type": "execute_result"
    }
   ],
   "source": [
    "from sklearn.metrics.pairwise import cosine_distances # for one pair of samples we can just use this function\r\n",
    "\r\n",
    "# Your code goes here\r\n",
    "\r\n",
    "cosine_distances(TFIDFmatrix[wiki[wiki.name == 'Barack Obama'].index], tfidfd)"
   ]
  },
  {
   "cell_type": "markdown",
   "metadata": {},
   "source": [
    "Let's compare this distance to the distance between the Barack Obama article and all of its Wikipedia nearest neighbors:"
   ]
  },
  {
   "cell_type": "code",
   "execution_count": 43,
   "metadata": {
    "collapsed": false,
    "jupyter": {
     "outputs_hidden": false
    }
   },
   "outputs": [
    {
     "data": {
      "text/html": "<div>\n<style scoped>\n    .dataframe tbody tr th:only-of-type {\n        vertical-align: middle;\n    }\n\n    .dataframe tbody tr th {\n        vertical-align: top;\n    }\n\n    .dataframe thead th {\n        text-align: right;\n    }\n</style>\n<table border=\"1\" class=\"dataframe\">\n  <thead>\n    <tr style=\"text-align: right;\">\n      <th></th>\n      <th>name</th>\n      <th>length</th>\n      <th>BO-cosine-TF-IDF</th>\n    </tr>\n  </thead>\n  <tbody>\n    <tr>\n      <th>35817</th>\n      <td>Barack Obama</td>\n      <td>540</td>\n      <td>0.000000</td>\n    </tr>\n    <tr>\n      <th>24478</th>\n      <td>Joe Biden</td>\n      <td>414</td>\n      <td>0.572725</td>\n    </tr>\n    <tr>\n      <th>57108</th>\n      <td>Hillary Rodham Clinton</td>\n      <td>580</td>\n      <td>0.616149</td>\n    </tr>\n    <tr>\n      <th>38376</th>\n      <td>Samantha Power</td>\n      <td>310</td>\n      <td>0.625797</td>\n    </tr>\n    <tr>\n      <th>38714</th>\n      <td>Eric Stern (politician)</td>\n      <td>255</td>\n      <td>0.651475</td>\n    </tr>\n    <tr>\n      <th>28447</th>\n      <td>George W. Bush</td>\n      <td>505</td>\n      <td>0.659478</td>\n    </tr>\n    <tr>\n      <th>39357</th>\n      <td>John McCain</td>\n      <td>410</td>\n      <td>0.661645</td>\n    </tr>\n    <tr>\n      <th>48693</th>\n      <td>Artur Davis</td>\n      <td>371</td>\n      <td>0.666690</td>\n    </tr>\n    <tr>\n      <th>18827</th>\n      <td>Henry Waxman</td>\n      <td>279</td>\n      <td>0.671226</td>\n    </tr>\n    <tr>\n      <th>37199</th>\n      <td>Barry Sullivan (lawyer)</td>\n      <td>893</td>\n      <td>0.673300</td>\n    </tr>\n    <tr>\n      <th>46811</th>\n      <td>Jeff Sessions</td>\n      <td>230</td>\n      <td>0.673581</td>\n    </tr>\n    <tr>\n      <th>36452</th>\n      <td>Bill Clinton</td>\n      <td>524</td>\n      <td>0.675260</td>\n    </tr>\n    <tr>\n      <th>6796</th>\n      <td>Eric Holder</td>\n      <td>232</td>\n      <td>0.677451</td>\n    </tr>\n    <tr>\n      <th>24848</th>\n      <td>John C. Eastman</td>\n      <td>366</td>\n      <td>0.679724</td>\n    </tr>\n    <tr>\n      <th>36425</th>\n      <td>Edward B. Montgomery</td>\n      <td>331</td>\n      <td>0.681387</td>\n    </tr>\n    <tr>\n      <th>14754</th>\n      <td>Mitt Romney</td>\n      <td>502</td>\n      <td>0.681761</td>\n    </tr>\n    <tr>\n      <th>35357</th>\n      <td>Lawrence Summers</td>\n      <td>413</td>\n      <td>0.687272</td>\n    </tr>\n    <tr>\n      <th>47303</th>\n      <td>John Kerry</td>\n      <td>410</td>\n      <td>0.692701</td>\n    </tr>\n    <tr>\n      <th>34344</th>\n      <td>Mary Dawson (civil servant)</td>\n      <td>434</td>\n      <td>0.696581</td>\n    </tr>\n    <tr>\n      <th>55181</th>\n      <td>Ron Paul</td>\n      <td>427</td>\n      <td>0.696642</td>\n    </tr>\n    <tr>\n      <th>4565</th>\n      <td>Robinson O. Everett</td>\n      <td>764</td>\n      <td>0.698133</td>\n    </tr>\n    <tr>\n      <th>46140</th>\n      <td>Robert Gibbs</td>\n      <td>257</td>\n      <td>0.698549</td>\n    </tr>\n    <tr>\n      <th>52859</th>\n      <td>Ann Lewis</td>\n      <td>634</td>\n      <td>0.698799</td>\n    </tr>\n  </tbody>\n</table>\n</div>",
      "text/plain": "                              name  length  BO-cosine-TF-IDF\n35817                 Barack Obama     540          0.000000\n24478                    Joe Biden     414          0.572725\n57108       Hillary Rodham Clinton     580          0.616149\n38376               Samantha Power     310          0.625797\n38714      Eric Stern (politician)     255          0.651475\n28447               George W. Bush     505          0.659478\n39357                  John McCain     410          0.661645\n48693                  Artur Davis     371          0.666690\n18827                 Henry Waxman     279          0.671226\n37199      Barry Sullivan (lawyer)     893          0.673300\n46811                Jeff Sessions     230          0.673581\n36452                 Bill Clinton     524          0.675260\n6796                   Eric Holder     232          0.677451\n24848              John C. Eastman     366          0.679724\n36425         Edward B. Montgomery     331          0.681387\n14754                  Mitt Romney     502          0.681761\n35357             Lawrence Summers     413          0.687272\n47303                   John Kerry     410          0.692701\n34344  Mary Dawson (civil servant)     434          0.696581\n55181                     Ron Paul     427          0.696642\n4565           Robinson O. Everett     764          0.698133\n46140                 Robert Gibbs     257          0.698549\n52859                    Ann Lewis     634          0.698799"
     },
     "execution_count": 43,
     "metadata": {},
     "output_type": "execute_result"
    }
   ],
   "source": [
    "nearest_neighbors_cosine[0:23]"
   ]
  },
  {
   "cell_type": "markdown",
   "metadata": {},
   "source": [
    "With cosine distances, the tweet is \"nearer\" to Barack Obama than most people! If someone is reading the Barack Obama Wikipedia page, would you want to recommend they read this tweet?\n",
    "In practice, it is common to enforce maximum or minimum document lengths. After all, when someone is reading a long article from _The Atlantic_, you wouldn't recommend him/her a tweet."
   ]
  }
 ],
 "metadata": {
  "anaconda-cloud": {},
  "kernelspec": {
   "display_name": "Python 3.10.6 64-bit",
   "metadata": {
    "interpreter": {
     "hash": "fe1ceaac486e280189bf0ce10b1c361d86bf450b204a45f9caafbace2e46b60f"
    }
   },
   "name": "python3"
  },
  "language_info": {
   "codemirror_mode": {
    "name": "ipython",
    "version": 3
   },
   "file_extension": ".py",
   "mimetype": "text/x-python",
   "name": "python",
   "nbconvert_exporter": "python",
   "pygments_lexer": "ipython3",
   "version": "3.10.6"
  }
 },
 "nbformat": 4,
 "nbformat_minor": 4
}