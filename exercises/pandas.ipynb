{
 "cells": [
  {
   "cell_type": "markdown",
   "metadata": {},
   "source": [
    "# Introduction to pandas\n",
    "Adapted from \"10 minutes to pandas\":\n",
    "https://pandas.pydata.org/pandas-docs/stable/getting_started/10min.html#min\n",
    "\n",
    "See also the cheatsheet:\n",
    "https://github.com/pandas-dev/pandas/blob/master/doc/cheatsheet/Pandas_Cheat_Sheet.pdf"
   ]
  },
  {
   "cell_type": "code",
   "execution_count": 1,
   "metadata": {
    "collapsed": true
   },
   "outputs": [],
   "source": [
    "import numpy as np\n",
    "import pandas as pd"
   ]
  },
  {
   "cell_type": "markdown",
   "metadata": {},
   "source": [
    "Pandas provides you with two handy data structures:\n",
    "- series\n",
    "- data frame\n",
    "\n",
    "which can store 1-dimensional and 2-dimensional labelled arrays.\n",
    "NumPy arrays have one dtype for the entire array, while pandas DataFrames have one dtype per column.\n",
    "Which means data frames can store different types of objects in each column,\n",
    "e.g., integers, reals, booleans, strings, dates."
   ]
  },
  {
   "cell_type": "markdown",
   "metadata": {},
   "source": [
    "## Object creation\n",
    "Creating a Series by passing a list of values, letting pandas create \n",
    "a default integer index:"
   ]
  },
  {
   "cell_type": "code",
   "execution_count": 2,
   "metadata": {
    "collapsed": false
   },
   "outputs": [
    {
     "data": {
      "text/plain": "0    1.0\n1    3.0\n2    5.0\n3    NaN\n4    6.0\n5    8.0\ndtype: float64"
     },
     "execution_count": 2,
     "metadata": {},
     "output_type": "execute_result"
    }
   ],
   "source": [
    "s = pd.Series([1,3,5,np.nan, 6, 8])\n",
    "s"
   ]
  },
  {
   "cell_type": "markdown",
   "metadata": {},
   "source": [
    "Creating a DataFrame by passing a NumPy array,\n",
    "with a datetime index and labeled columns:"
   ]
  },
  {
   "cell_type": "code",
   "execution_count": 10,
   "metadata": {
    "collapsed": false
   },
   "outputs": [
    {
     "data": {
      "text/plain": "DatetimeIndex(['2019-10-01', '2019-10-02', '2019-10-03', '2019-10-04',\n               '2019-10-05', '2019-10-06', '2019-10-07', '2019-10-08',\n               '2019-10-09', '2019-10-10', '2019-10-11', '2019-10-12',\n               '2019-10-13', '2019-10-14', '2019-10-15', '2019-10-16'],\n              dtype='datetime64[ns]', freq='D')"
     },
     "execution_count": 10,
     "metadata": {},
     "output_type": "execute_result"
    }
   ],
   "source": [
    "dates = pd.date_range('20191001',periods=16)\n",
    "dates"
   ]
  },
  {
   "cell_type": "code",
   "execution_count": 14,
   "metadata": {
    "collapsed": false
   },
   "outputs": [
    {
     "data": {
      "text/html": "<div>\n<style scoped>\n    .dataframe tbody tr th:only-of-type {\n        vertical-align: middle;\n    }\n\n    .dataframe tbody tr th {\n        vertical-align: top;\n    }\n\n    .dataframe thead th {\n        text-align: right;\n    }\n</style>\n<table border=\"1\" class=\"dataframe\">\n  <thead>\n    <tr style=\"text-align: right;\">\n      <th></th>\n      <th>A</th>\n      <th>B</th>\n      <th>C</th>\n      <th>D</th>\n    </tr>\n  </thead>\n  <tbody>\n    <tr>\n      <th>2019-10-01</th>\n      <td>0.950326</td>\n      <td>0.275915</td>\n      <td>0.118579</td>\n      <td>0.833166</td>\n    </tr>\n    <tr>\n      <th>2019-10-02</th>\n      <td>0.841730</td>\n      <td>0.558993</td>\n      <td>0.713032</td>\n      <td>0.854773</td>\n    </tr>\n    <tr>\n      <th>2019-10-03</th>\n      <td>0.073809</td>\n      <td>0.893173</td>\n      <td>0.192037</td>\n      <td>0.290293</td>\n    </tr>\n    <tr>\n      <th>2019-10-04</th>\n      <td>0.545819</td>\n      <td>0.054818</td>\n      <td>0.376030</td>\n      <td>0.721913</td>\n    </tr>\n    <tr>\n      <th>2019-10-05</th>\n      <td>0.258472</td>\n      <td>0.007102</td>\n      <td>0.341270</td>\n      <td>0.856228</td>\n    </tr>\n    <tr>\n      <th>2019-10-06</th>\n      <td>0.336803</td>\n      <td>0.099718</td>\n      <td>0.807377</td>\n      <td>0.405314</td>\n    </tr>\n    <tr>\n      <th>2019-10-07</th>\n      <td>0.905025</td>\n      <td>0.143717</td>\n      <td>0.360757</td>\n      <td>0.485804</td>\n    </tr>\n    <tr>\n      <th>2019-10-08</th>\n      <td>0.045150</td>\n      <td>0.224338</td>\n      <td>0.080681</td>\n      <td>0.502430</td>\n    </tr>\n    <tr>\n      <th>2019-10-09</th>\n      <td>0.702303</td>\n      <td>0.688764</td>\n      <td>0.028482</td>\n      <td>0.295972</td>\n    </tr>\n    <tr>\n      <th>2019-10-10</th>\n      <td>0.690060</td>\n      <td>0.796289</td>\n      <td>0.916029</td>\n      <td>0.976355</td>\n    </tr>\n    <tr>\n      <th>2019-10-11</th>\n      <td>0.176215</td>\n      <td>0.183317</td>\n      <td>0.249532</td>\n      <td>0.767081</td>\n    </tr>\n    <tr>\n      <th>2019-10-12</th>\n      <td>0.361432</td>\n      <td>0.394472</td>\n      <td>0.931385</td>\n      <td>0.260365</td>\n    </tr>\n    <tr>\n      <th>2019-10-13</th>\n      <td>0.842500</td>\n      <td>0.085671</td>\n      <td>0.361833</td>\n      <td>0.377442</td>\n    </tr>\n    <tr>\n      <th>2019-10-14</th>\n      <td>0.644069</td>\n      <td>0.263002</td>\n      <td>0.457555</td>\n      <td>0.388605</td>\n    </tr>\n    <tr>\n      <th>2019-10-15</th>\n      <td>0.184851</td>\n      <td>0.608492</td>\n      <td>0.647105</td>\n      <td>0.934273</td>\n    </tr>\n    <tr>\n      <th>2019-10-16</th>\n      <td>0.654431</td>\n      <td>0.224211</td>\n      <td>0.387154</td>\n      <td>0.742133</td>\n    </tr>\n  </tbody>\n</table>\n</div>",
      "text/plain": "                   A         B         C         D\n2019-10-01  0.950326  0.275915  0.118579  0.833166\n2019-10-02  0.841730  0.558993  0.713032  0.854773\n2019-10-03  0.073809  0.893173  0.192037  0.290293\n2019-10-04  0.545819  0.054818  0.376030  0.721913\n2019-10-05  0.258472  0.007102  0.341270  0.856228\n2019-10-06  0.336803  0.099718  0.807377  0.405314\n2019-10-07  0.905025  0.143717  0.360757  0.485804\n2019-10-08  0.045150  0.224338  0.080681  0.502430\n2019-10-09  0.702303  0.688764  0.028482  0.295972\n2019-10-10  0.690060  0.796289  0.916029  0.976355\n2019-10-11  0.176215  0.183317  0.249532  0.767081\n2019-10-12  0.361432  0.394472  0.931385  0.260365\n2019-10-13  0.842500  0.085671  0.361833  0.377442\n2019-10-14  0.644069  0.263002  0.457555  0.388605\n2019-10-15  0.184851  0.608492  0.647105  0.934273\n2019-10-16  0.654431  0.224211  0.387154  0.742133"
     },
     "execution_count": 14,
     "metadata": {},
     "output_type": "execute_result"
    }
   ],
   "source": [
    "df = pd.DataFrame(np.random.rand(16,4),index=dates,columns=list('ABCD'))\r\n",
    "df\r\n",
    "# ?np.random.randint\r\n",
    "# np.random.randint(0,high=10,size=(3,4))"
   ]
  },
  {
   "cell_type": "markdown",
   "metadata": {},
   "source": [
    "If you don't like the column names, you can use an array of strings"
   ]
  },
  {
   "cell_type": "code",
   "execution_count": 4,
   "metadata": {
    "collapsed": false
   },
   "outputs": [
    {
     "ename": "NameError",
     "evalue": "name 'dates' is not defined",
     "output_type": "error",
     "traceback": [
      "\u001b[1;31m---------------------------------------------------------------------------\u001b[0m",
      "\u001b[1;31mNameError\u001b[0m                                 Traceback (most recent call last)",
      "Cell \u001b[1;32mIn [4], line 1\u001b[0m\n\u001b[1;32m----> 1\u001b[0m df \u001b[38;5;241m=\u001b[39m pd\u001b[38;5;241m.\u001b[39mDataFrame(np\u001b[38;5;241m.\u001b[39mrandom\u001b[38;5;241m.\u001b[39mrand(\u001b[38;5;241m16\u001b[39m,\u001b[38;5;241m4\u001b[39m),index\u001b[38;5;241m=\u001b[39m\u001b[43mdates\u001b[49m,columns\u001b[38;5;241m=\u001b[39m\u001b[38;5;28mlist\u001b[39m([\u001b[38;5;124m'\u001b[39m\u001b[38;5;124mA\u001b[39m\u001b[38;5;124m'\u001b[39m,\u001b[38;5;124m'\u001b[39m\u001b[38;5;124mB\u001b[39m\u001b[38;5;124m'\u001b[39m,\u001b[38;5;124m'\u001b[39m\u001b[38;5;124mCyder\u001b[39m\u001b[38;5;124m'\u001b[39m,\u001b[38;5;124m'\u001b[39m\u001b[38;5;124mD\u001b[39m\u001b[38;5;124m'\u001b[39m]))\n\u001b[0;32m      2\u001b[0m df\n",
      "\u001b[1;31mNameError\u001b[0m: name 'dates' is not defined"
     ]
    }
   ],
   "source": [
    "df = pd.DataFrame(np.random.rand(16,4),index=dates,columns=list(['A','B','Cyder','D']))\r\n",
    "df"
   ]
  },
  {
   "cell_type": "markdown",
   "metadata": {},
   "source": [
    "or rename only some of the columns:"
   ]
  },
  {
   "cell_type": "code",
   "execution_count": 12,
   "metadata": {
    "collapsed": false
   },
   "outputs": [
    {
     "data": {
      "text/html": "<div>\n<style scoped>\n    .dataframe tbody tr th:only-of-type {\n        vertical-align: middle;\n    }\n\n    .dataframe tbody tr th {\n        vertical-align: top;\n    }\n\n    .dataframe thead th {\n        text-align: right;\n    }\n</style>\n<table border=\"1\" class=\"dataframe\">\n  <thead>\n    <tr style=\"text-align: right;\">\n      <th></th>\n      <th>A</th>\n      <th>B</th>\n      <th>C</th>\n      <th>D</th>\n    </tr>\n  </thead>\n  <tbody>\n    <tr>\n      <th>2019-10-01</th>\n      <td>0.684341</td>\n      <td>0.677166</td>\n      <td>0.306208</td>\n      <td>0.891812</td>\n    </tr>\n    <tr>\n      <th>2019-10-02</th>\n      <td>0.548334</td>\n      <td>0.446852</td>\n      <td>0.240688</td>\n      <td>0.893282</td>\n    </tr>\n    <tr>\n      <th>2019-10-03</th>\n      <td>0.397255</td>\n      <td>0.774501</td>\n      <td>0.302217</td>\n      <td>0.450796</td>\n    </tr>\n    <tr>\n      <th>2019-10-04</th>\n      <td>0.439756</td>\n      <td>0.607245</td>\n      <td>0.554820</td>\n      <td>0.924293</td>\n    </tr>\n    <tr>\n      <th>2019-10-05</th>\n      <td>0.588373</td>\n      <td>0.240206</td>\n      <td>0.606679</td>\n      <td>0.667791</td>\n    </tr>\n    <tr>\n      <th>2019-10-06</th>\n      <td>0.394867</td>\n      <td>0.249199</td>\n      <td>0.137441</td>\n      <td>0.911677</td>\n    </tr>\n    <tr>\n      <th>2019-10-07</th>\n      <td>0.041144</td>\n      <td>0.819367</td>\n      <td>0.562774</td>\n      <td>0.549807</td>\n    </tr>\n    <tr>\n      <th>2019-10-08</th>\n      <td>0.634751</td>\n      <td>0.200241</td>\n      <td>0.107370</td>\n      <td>0.247554</td>\n    </tr>\n    <tr>\n      <th>2019-10-09</th>\n      <td>0.946431</td>\n      <td>0.768248</td>\n      <td>0.643782</td>\n      <td>0.723952</td>\n    </tr>\n    <tr>\n      <th>2019-10-10</th>\n      <td>0.077846</td>\n      <td>0.131600</td>\n      <td>0.806642</td>\n      <td>0.201902</td>\n    </tr>\n    <tr>\n      <th>2019-10-11</th>\n      <td>0.851321</td>\n      <td>0.275230</td>\n      <td>0.827250</td>\n      <td>0.520131</td>\n    </tr>\n    <tr>\n      <th>2019-10-12</th>\n      <td>0.785155</td>\n      <td>0.364111</td>\n      <td>0.732324</td>\n      <td>0.750252</td>\n    </tr>\n    <tr>\n      <th>2019-10-13</th>\n      <td>0.897269</td>\n      <td>0.032859</td>\n      <td>0.459267</td>\n      <td>0.471487</td>\n    </tr>\n    <tr>\n      <th>2019-10-14</th>\n      <td>0.248039</td>\n      <td>0.974106</td>\n      <td>0.391385</td>\n      <td>0.217504</td>\n    </tr>\n    <tr>\n      <th>2019-10-15</th>\n      <td>0.841430</td>\n      <td>0.373064</td>\n      <td>0.503902</td>\n      <td>0.240583</td>\n    </tr>\n    <tr>\n      <th>2019-10-16</th>\n      <td>0.334012</td>\n      <td>0.468521</td>\n      <td>0.377050</td>\n      <td>0.196930</td>\n    </tr>\n  </tbody>\n</table>\n</div>",
      "text/plain": "                   A         B         C         D\n2019-10-01  0.684341  0.677166  0.306208  0.891812\n2019-10-02  0.548334  0.446852  0.240688  0.893282\n2019-10-03  0.397255  0.774501  0.302217  0.450796\n2019-10-04  0.439756  0.607245  0.554820  0.924293\n2019-10-05  0.588373  0.240206  0.606679  0.667791\n2019-10-06  0.394867  0.249199  0.137441  0.911677\n2019-10-07  0.041144  0.819367  0.562774  0.549807\n2019-10-08  0.634751  0.200241  0.107370  0.247554\n2019-10-09  0.946431  0.768248  0.643782  0.723952\n2019-10-10  0.077846  0.131600  0.806642  0.201902\n2019-10-11  0.851321  0.275230  0.827250  0.520131\n2019-10-12  0.785155  0.364111  0.732324  0.750252\n2019-10-13  0.897269  0.032859  0.459267  0.471487\n2019-10-14  0.248039  0.974106  0.391385  0.217504\n2019-10-15  0.841430  0.373064  0.503902  0.240583\n2019-10-16  0.334012  0.468521  0.377050  0.196930"
     },
     "execution_count": 12,
     "metadata": {},
     "output_type": "execute_result"
    }
   ],
   "source": [
    "df=df.rename(columns={'Cyder':'buba'})\n",
    "df"
   ]
  },
  {
   "cell_type": "markdown",
   "metadata": {},
   "source": [
    "Creating a DataFrame by passing a dictionary of objects \n",
    "that can be converted to series-like."
   ]
  },
  {
   "cell_type": "code",
   "execution_count": 12,
   "metadata": {
    "collapsed": false
   },
   "outputs": [
    {
     "data": {
      "text/html": [
       "<div>\n",
       "<style scoped>\n",
       "    .dataframe tbody tr th:only-of-type {\n",
       "        vertical-align: middle;\n",
       "    }\n",
       "\n",
       "    .dataframe tbody tr th {\n",
       "        vertical-align: top;\n",
       "    }\n",
       "\n",
       "    .dataframe thead th {\n",
       "        text-align: right;\n",
       "    }\n",
       "</style>\n",
       "<table border=\"1\" class=\"dataframe\">\n",
       "  <thead>\n",
       "    <tr style=\"text-align: right;\">\n",
       "      <th></th>\n",
       "      <th>A</th>\n",
       "      <th>B</th>\n",
       "      <th>C</th>\n",
       "      <th>D</th>\n",
       "      <th>E</th>\n",
       "      <th>F</th>\n",
       "    </tr>\n",
       "  </thead>\n",
       "  <tbody>\n",
       "    <tr>\n",
       "      <td>0</td>\n",
       "      <td>1.0</td>\n",
       "      <td>2013-01-02</td>\n",
       "      <td>1.0</td>\n",
       "      <td>3</td>\n",
       "      <td>test</td>\n",
       "      <td>foo</td>\n",
       "    </tr>\n",
       "    <tr>\n",
       "      <td>1</td>\n",
       "      <td>1.0</td>\n",
       "      <td>2013-01-02</td>\n",
       "      <td>1.0</td>\n",
       "      <td>3</td>\n",
       "      <td>train</td>\n",
       "      <td>foo</td>\n",
       "    </tr>\n",
       "    <tr>\n",
       "      <td>2</td>\n",
       "      <td>1.0</td>\n",
       "      <td>2013-01-02</td>\n",
       "      <td>1.0</td>\n",
       "      <td>3</td>\n",
       "      <td>test</td>\n",
       "      <td>foo</td>\n",
       "    </tr>\n",
       "    <tr>\n",
       "      <td>3</td>\n",
       "      <td>1.0</td>\n",
       "      <td>2013-01-02</td>\n",
       "      <td>1.0</td>\n",
       "      <td>3</td>\n",
       "      <td>train</td>\n",
       "      <td>foo</td>\n",
       "    </tr>\n",
       "  </tbody>\n",
       "</table>\n",
       "</div>"
      ],
      "text/plain": [
       "     A          B    C  D      E    F\n",
       "0  1.0 2013-01-02  1.0  3   test  foo\n",
       "1  1.0 2013-01-02  1.0  3  train  foo\n",
       "2  1.0 2013-01-02  1.0  3   test  foo\n",
       "3  1.0 2013-01-02  1.0  3  train  foo"
      ]
     },
     "execution_count": 12,
     "metadata": {},
     "output_type": "execute_result"
    }
   ],
   "source": [
    "df2 = pd.DataFrame({'A': 1.,\n",
    "    ...:                    'B': pd.Timestamp('20130102'),\n",
    "   ...:                     'C': pd.Series(1, index=list(range(4)), dtype='float32'),\n",
    "   ...:                     'D': np.array([3] * 4, dtype='int32'),\n",
    "   ...:                     'E': pd.Categorical([\"test\", \"train\", \"test\", \"train\"]),\n",
    "   ...:                     'F': 'foo'})\n",
    "df2"
   ]
  },
  {
   "cell_type": "markdown",
   "metadata": {},
   "source": [
    "### Manipulate"
   ]
  },
  {
   "cell_type": "markdown",
   "metadata": {},
   "source": [
    "The data frame can be sorted in several ways, e.g.:\n",
    "- by row or column names\n",
    "- by a selected row or column values"
   ]
  },
  {
   "cell_type": "code",
   "execution_count": 35,
   "metadata": {
    "collapsed": false,
    "scrolled": true
   },
   "outputs": [
    {
     "data": {
      "text/html": [
       "<div>\n",
       "<style scoped>\n",
       "    .dataframe tbody tr th:only-of-type {\n",
       "        vertical-align: middle;\n",
       "    }\n",
       "\n",
       "    .dataframe tbody tr th {\n",
       "        vertical-align: top;\n",
       "    }\n",
       "\n",
       "    .dataframe thead th {\n",
       "        text-align: right;\n",
       "    }\n",
       "</style>\n",
       "<table border=\"1\" class=\"dataframe\">\n",
       "  <thead>\n",
       "    <tr style=\"text-align: right;\">\n",
       "      <th></th>\n",
       "      <th>B</th>\n",
       "      <th>A</th>\n",
       "      <th>buba</th>\n",
       "      <th>D</th>\n",
       "    </tr>\n",
       "  </thead>\n",
       "  <tbody>\n",
       "    <tr>\n",
       "      <td>2019-10-01</td>\n",
       "      <td>0.886582</td>\n",
       "      <td>0.939175</td>\n",
       "      <td>0.533153</td>\n",
       "      <td>0.765497</td>\n",
       "    </tr>\n",
       "    <tr>\n",
       "      <td>2019-10-02</td>\n",
       "      <td>0.607290</td>\n",
       "      <td>0.876374</td>\n",
       "      <td>0.325079</td>\n",
       "      <td>0.887634</td>\n",
       "    </tr>\n",
       "    <tr>\n",
       "      <td>2019-10-03</td>\n",
       "      <td>0.253545</td>\n",
       "      <td>0.170384</td>\n",
       "      <td>0.452498</td>\n",
       "      <td>0.148827</td>\n",
       "    </tr>\n",
       "    <tr>\n",
       "      <td>2019-10-04</td>\n",
       "      <td>0.783512</td>\n",
       "      <td>0.634689</td>\n",
       "      <td>0.058327</td>\n",
       "      <td>0.749859</td>\n",
       "    </tr>\n",
       "    <tr>\n",
       "      <td>2019-10-05</td>\n",
       "      <td>0.191081</td>\n",
       "      <td>0.003723</td>\n",
       "      <td>0.619222</td>\n",
       "      <td>0.058100</td>\n",
       "    </tr>\n",
       "    <tr>\n",
       "      <td>2019-10-06</td>\n",
       "      <td>0.480161</td>\n",
       "      <td>0.472705</td>\n",
       "      <td>0.748015</td>\n",
       "      <td>0.322100</td>\n",
       "    </tr>\n",
       "    <tr>\n",
       "      <td>2019-10-07</td>\n",
       "      <td>0.968769</td>\n",
       "      <td>0.078044</td>\n",
       "      <td>0.838767</td>\n",
       "      <td>0.023229</td>\n",
       "    </tr>\n",
       "    <tr>\n",
       "      <td>2019-10-08</td>\n",
       "      <td>0.397543</td>\n",
       "      <td>0.796217</td>\n",
       "      <td>0.416777</td>\n",
       "      <td>0.214413</td>\n",
       "    </tr>\n",
       "    <tr>\n",
       "      <td>2019-10-09</td>\n",
       "      <td>0.163434</td>\n",
       "      <td>0.190408</td>\n",
       "      <td>0.106236</td>\n",
       "      <td>0.654870</td>\n",
       "    </tr>\n",
       "    <tr>\n",
       "      <td>2019-10-10</td>\n",
       "      <td>0.895548</td>\n",
       "      <td>0.769656</td>\n",
       "      <td>0.028251</td>\n",
       "      <td>0.530253</td>\n",
       "    </tr>\n",
       "    <tr>\n",
       "      <td>2019-10-11</td>\n",
       "      <td>0.450941</td>\n",
       "      <td>0.854055</td>\n",
       "      <td>0.533613</td>\n",
       "      <td>0.267064</td>\n",
       "    </tr>\n",
       "    <tr>\n",
       "      <td>2019-10-12</td>\n",
       "      <td>0.699253</td>\n",
       "      <td>0.097476</td>\n",
       "      <td>0.094920</td>\n",
       "      <td>0.081038</td>\n",
       "    </tr>\n",
       "    <tr>\n",
       "      <td>2019-10-13</td>\n",
       "      <td>0.472829</td>\n",
       "      <td>0.814525</td>\n",
       "      <td>0.839644</td>\n",
       "      <td>0.091387</td>\n",
       "    </tr>\n",
       "    <tr>\n",
       "      <td>2019-10-14</td>\n",
       "      <td>0.019850</td>\n",
       "      <td>0.388499</td>\n",
       "      <td>0.037473</td>\n",
       "      <td>0.759586</td>\n",
       "    </tr>\n",
       "    <tr>\n",
       "      <td>2019-10-15</td>\n",
       "      <td>0.578925</td>\n",
       "      <td>0.167729</td>\n",
       "      <td>0.133013</td>\n",
       "      <td>0.172758</td>\n",
       "    </tr>\n",
       "    <tr>\n",
       "      <td>2019-10-16</td>\n",
       "      <td>0.163998</td>\n",
       "      <td>0.905642</td>\n",
       "      <td>0.254254</td>\n",
       "      <td>0.570922</td>\n",
       "    </tr>\n",
       "  </tbody>\n",
       "</table>\n",
       "</div>"
      ],
      "text/plain": [
       "                   B         A      buba         D\n",
       "2019-10-01  0.886582  0.939175  0.533153  0.765497\n",
       "2019-10-02  0.607290  0.876374  0.325079  0.887634\n",
       "2019-10-03  0.253545  0.170384  0.452498  0.148827\n",
       "2019-10-04  0.783512  0.634689  0.058327  0.749859\n",
       "2019-10-05  0.191081  0.003723  0.619222  0.058100\n",
       "2019-10-06  0.480161  0.472705  0.748015  0.322100\n",
       "2019-10-07  0.968769  0.078044  0.838767  0.023229\n",
       "2019-10-08  0.397543  0.796217  0.416777  0.214413\n",
       "2019-10-09  0.163434  0.190408  0.106236  0.654870\n",
       "2019-10-10  0.895548  0.769656  0.028251  0.530253\n",
       "2019-10-11  0.450941  0.854055  0.533613  0.267064\n",
       "2019-10-12  0.699253  0.097476  0.094920  0.081038\n",
       "2019-10-13  0.472829  0.814525  0.839644  0.091387\n",
       "2019-10-14  0.019850  0.388499  0.037473  0.759586\n",
       "2019-10-15  0.578925  0.167729  0.133013  0.172758\n",
       "2019-10-16  0.163998  0.905642  0.254254  0.570922"
      ]
     },
     "execution_count": 35,
     "metadata": {},
     "output_type": "execute_result"
    }
   ],
   "source": [
    "# df2.sort_index(axis=1,ascending=True)\n",
    "# df2.sort_values(by='E',ascending=False)\n",
    "# df.sort_values(by='2019-10-12',axis=1,ascending=False)"
   ]
  },
  {
   "cell_type": "markdown",
   "metadata": {},
   "source": [
    "Now read the documentation (or cheatsheet) and explain what happens in each of the following lines:"
   ]
  },
  {
   "cell_type": "code",
   "execution_count": 50,
   "metadata": {
    "collapsed": true
   },
   "outputs": [],
   "source": [
    "# df.T\n",
    "# pd.melt(df)\n",
    "# df2.pivot(columns='E')\n",
    "# df.drop(columns=['A'])"
   ]
  },
  {
   "cell_type": "markdown",
   "metadata": {},
   "source": [
    "### Access data\n",
    "There are many ways to access data frame entries.\n",
    "\n",
    "Let's try different ways of selecting the first column:\n",
    "- by column name (which became a method associated with the data frame object)\n",
    "- by column name\n",
    "- using .loc method (select all rows and column named 'A')\n",
    "- using .iloc method (select all rows and the first column)\n",
    "\n",
    "Uncomment each line below and check results:"
   ]
  },
  {
   "cell_type": "code",
   "execution_count": 15,
   "metadata": {
    "collapsed": true
   },
   "outputs": [
    {
     "data": {
      "text/plain": "2019-10-01    0.950326\n2019-10-02    0.841730\n2019-10-03    0.073809\n2019-10-04    0.545819\n2019-10-05    0.258472\n2019-10-06    0.336803\n2019-10-07    0.905025\n2019-10-08    0.045150\n2019-10-09    0.702303\n2019-10-10    0.690060\n2019-10-11    0.176215\n2019-10-12    0.361432\n2019-10-13    0.842500\n2019-10-14    0.644069\n2019-10-15    0.184851\n2019-10-16    0.654431\nFreq: D, Name: A, dtype: float64"
     },
     "execution_count": 15,
     "metadata": {},
     "output_type": "execute_result"
    }
   ],
   "source": [
    "df.A\r\n",
    "df['A']\r\n",
    "df.loc[:,'A']\r\n",
    "df.iloc[:,0]"
   ]
  },
  {
   "cell_type": "markdown",
   "metadata": {},
   "source": [
    "You can access range of entries:\n",
    "- by specifying start:end using names\n",
    "- by specifying start:end using integer row indices\n",
    "- by inserting arrays of indices (don't need to be consecutive)\n",
    "- by specifying entries with an array of boolean values (True = include data, False = exclude data)\n",
    "\n",
    "Uncomment each line below separately to see the results"
   ]
  },
  {
   "cell_type": "code",
   "execution_count": 39,
   "metadata": {
    "collapsed": true
   },
   "outputs": [],
   "source": [
    "# df[0:3]\n",
    "# df['20191001':'20191003']\n",
    "# df.iloc[0:3, :]\n",
    "# df.iloc[[1,4,13],[0,2]]\n",
    "# df.iloc[:,[True,True,False,False]]"
   ]
  },
  {
   "cell_type": "markdown",
   "metadata": {},
   "source": [
    "You can look up the column names using regular expression\n",
    "(provided you were smart naming them).\n",
    "\n",
    "Let's find all the columns starting with an uppercase letter:"
   ]
  },
  {
   "cell_type": "code",
   "execution_count": 27,
   "metadata": {
    "collapsed": false
   },
   "outputs": [
    {
     "data": {
      "text/html": "<div>\n<style scoped>\n    .dataframe tbody tr th:only-of-type {\n        vertical-align: middle;\n    }\n\n    .dataframe tbody tr th {\n        vertical-align: top;\n    }\n\n    .dataframe thead th {\n        text-align: right;\n    }\n</style>\n<table border=\"1\" class=\"dataframe\">\n  <thead>\n    <tr style=\"text-align: right;\">\n      <th></th>\n      <th>A</th>\n      <th>B</th>\n      <th>C</th>\n      <th>D</th>\n    </tr>\n  </thead>\n  <tbody>\n    <tr>\n      <th>2019-10-01</th>\n      <td>0.950326</td>\n      <td>0.275915</td>\n      <td>0.118579</td>\n      <td>0.833166</td>\n    </tr>\n    <tr>\n      <th>2019-10-02</th>\n      <td>0.841730</td>\n      <td>0.558993</td>\n      <td>0.713032</td>\n      <td>0.854773</td>\n    </tr>\n    <tr>\n      <th>2019-10-03</th>\n      <td>0.073809</td>\n      <td>0.893173</td>\n      <td>0.192037</td>\n      <td>0.290293</td>\n    </tr>\n    <tr>\n      <th>2019-10-04</th>\n      <td>0.545819</td>\n      <td>0.054818</td>\n      <td>0.376030</td>\n      <td>0.721913</td>\n    </tr>\n    <tr>\n      <th>2019-10-05</th>\n      <td>0.258472</td>\n      <td>0.007102</td>\n      <td>0.341270</td>\n      <td>0.856228</td>\n    </tr>\n    <tr>\n      <th>2019-10-06</th>\n      <td>0.336803</td>\n      <td>0.099718</td>\n      <td>0.807377</td>\n      <td>0.405314</td>\n    </tr>\n    <tr>\n      <th>2019-10-07</th>\n      <td>0.905025</td>\n      <td>0.143717</td>\n      <td>0.360757</td>\n      <td>0.485804</td>\n    </tr>\n    <tr>\n      <th>2019-10-08</th>\n      <td>0.045150</td>\n      <td>0.224338</td>\n      <td>0.080681</td>\n      <td>0.502430</td>\n    </tr>\n    <tr>\n      <th>2019-10-09</th>\n      <td>0.702303</td>\n      <td>0.688764</td>\n      <td>0.028482</td>\n      <td>0.295972</td>\n    </tr>\n    <tr>\n      <th>2019-10-10</th>\n      <td>0.690060</td>\n      <td>0.796289</td>\n      <td>0.916029</td>\n      <td>0.976355</td>\n    </tr>\n    <tr>\n      <th>2019-10-11</th>\n      <td>0.176215</td>\n      <td>0.183317</td>\n      <td>0.249532</td>\n      <td>0.767081</td>\n    </tr>\n    <tr>\n      <th>2019-10-12</th>\n      <td>0.361432</td>\n      <td>0.394472</td>\n      <td>0.931385</td>\n      <td>0.260365</td>\n    </tr>\n    <tr>\n      <th>2019-10-13</th>\n      <td>0.842500</td>\n      <td>0.085671</td>\n      <td>0.361833</td>\n      <td>0.377442</td>\n    </tr>\n    <tr>\n      <th>2019-10-14</th>\n      <td>0.644069</td>\n      <td>0.263002</td>\n      <td>0.457555</td>\n      <td>0.388605</td>\n    </tr>\n    <tr>\n      <th>2019-10-15</th>\n      <td>0.184851</td>\n      <td>0.608492</td>\n      <td>0.647105</td>\n      <td>0.934273</td>\n    </tr>\n    <tr>\n      <th>2019-10-16</th>\n      <td>0.654431</td>\n      <td>0.224211</td>\n      <td>0.387154</td>\n      <td>0.742133</td>\n    </tr>\n  </tbody>\n</table>\n</div>",
      "text/plain": "                   A         B         C         D\n2019-10-01  0.950326  0.275915  0.118579  0.833166\n2019-10-02  0.841730  0.558993  0.713032  0.854773\n2019-10-03  0.073809  0.893173  0.192037  0.290293\n2019-10-04  0.545819  0.054818  0.376030  0.721913\n2019-10-05  0.258472  0.007102  0.341270  0.856228\n2019-10-06  0.336803  0.099718  0.807377  0.405314\n2019-10-07  0.905025  0.143717  0.360757  0.485804\n2019-10-08  0.045150  0.224338  0.080681  0.502430\n2019-10-09  0.702303  0.688764  0.028482  0.295972\n2019-10-10  0.690060  0.796289  0.916029  0.976355\n2019-10-11  0.176215  0.183317  0.249532  0.767081\n2019-10-12  0.361432  0.394472  0.931385  0.260365\n2019-10-13  0.842500  0.085671  0.361833  0.377442\n2019-10-14  0.644069  0.263002  0.457555  0.388605\n2019-10-15  0.184851  0.608492  0.647105  0.934273\n2019-10-16  0.654431  0.224211  0.387154  0.742133"
     },
     "execution_count": 27,
     "metadata": {},
     "output_type": "execute_result"
    }
   ],
   "source": [
    "df.filter(regex='[A-Z]')"
   ]
  },
  {
   "cell_type": "markdown",
   "metadata": {},
   "source": [
    "Multiple entries can be overwritten simultaneously.\n",
    "\n",
    "Explain what will change after running the following lines:"
   ]
  },
  {
   "cell_type": "code",
   "execution_count": 26,
   "metadata": {
    "collapsed": false
   },
   "outputs": [
    {
     "data": {
      "text/html": [
       "<div>\n",
       "<style scoped>\n",
       "    .dataframe tbody tr th:only-of-type {\n",
       "        vertical-align: middle;\n",
       "    }\n",
       "\n",
       "    .dataframe tbody tr th {\n",
       "        vertical-align: top;\n",
       "    }\n",
       "\n",
       "    .dataframe thead th {\n",
       "        text-align: right;\n",
       "    }\n",
       "</style>\n",
       "<table border=\"1\" class=\"dataframe\">\n",
       "  <thead>\n",
       "    <tr style=\"text-align: right;\">\n",
       "      <th></th>\n",
       "      <th>A</th>\n",
       "      <th>B</th>\n",
       "      <th>buba</th>\n",
       "      <th>D</th>\n",
       "    </tr>\n",
       "  </thead>\n",
       "  <tbody>\n",
       "    <tr>\n",
       "      <td>2019-10-01</td>\n",
       "      <td>3</td>\n",
       "      <td>0.300000</td>\n",
       "      <td>0.300000</td>\n",
       "      <td>1.200000</td>\n",
       "    </tr>\n",
       "    <tr>\n",
       "      <td>2019-10-02</td>\n",
       "      <td>3</td>\n",
       "      <td>0.896039</td>\n",
       "      <td>0.637553</td>\n",
       "      <td>0.102936</td>\n",
       "    </tr>\n",
       "    <tr>\n",
       "      <td>2019-10-03</td>\n",
       "      <td>3</td>\n",
       "      <td>0.338066</td>\n",
       "      <td>0.809526</td>\n",
       "      <td>0.940079</td>\n",
       "    </tr>\n",
       "    <tr>\n",
       "      <td>2019-10-04</td>\n",
       "      <td>3</td>\n",
       "      <td>0.218964</td>\n",
       "      <td>0.247322</td>\n",
       "      <td>0.880936</td>\n",
       "    </tr>\n",
       "    <tr>\n",
       "      <td>2019-10-05</td>\n",
       "      <td>3</td>\n",
       "      <td>0.227465</td>\n",
       "      <td>0.510530</td>\n",
       "      <td>0.791399</td>\n",
       "    </tr>\n",
       "    <tr>\n",
       "      <td>2019-10-06</td>\n",
       "      <td>3</td>\n",
       "      <td>0.104877</td>\n",
       "      <td>0.262396</td>\n",
       "      <td>0.260462</td>\n",
       "    </tr>\n",
       "    <tr>\n",
       "      <td>2019-10-07</td>\n",
       "      <td>3</td>\n",
       "      <td>0.660303</td>\n",
       "      <td>0.241162</td>\n",
       "      <td>0.764813</td>\n",
       "    </tr>\n",
       "    <tr>\n",
       "      <td>2019-10-08</td>\n",
       "      <td>3</td>\n",
       "      <td>0.841544</td>\n",
       "      <td>0.221016</td>\n",
       "      <td>0.364391</td>\n",
       "    </tr>\n",
       "    <tr>\n",
       "      <td>2019-10-09</td>\n",
       "      <td>3</td>\n",
       "      <td>0.030281</td>\n",
       "      <td>0.506326</td>\n",
       "      <td>0.664463</td>\n",
       "    </tr>\n",
       "    <tr>\n",
       "      <td>2019-10-10</td>\n",
       "      <td>3</td>\n",
       "      <td>0.150880</td>\n",
       "      <td>0.513292</td>\n",
       "      <td>0.247200</td>\n",
       "    </tr>\n",
       "    <tr>\n",
       "      <td>2019-10-11</td>\n",
       "      <td>3</td>\n",
       "      <td>0.756928</td>\n",
       "      <td>0.930413</td>\n",
       "      <td>0.852314</td>\n",
       "    </tr>\n",
       "    <tr>\n",
       "      <td>2019-10-12</td>\n",
       "      <td>3</td>\n",
       "      <td>0.548275</td>\n",
       "      <td>0.337590</td>\n",
       "      <td>0.515698</td>\n",
       "    </tr>\n",
       "    <tr>\n",
       "      <td>2019-10-13</td>\n",
       "      <td>3</td>\n",
       "      <td>0.635733</td>\n",
       "      <td>0.137816</td>\n",
       "      <td>0.067704</td>\n",
       "    </tr>\n",
       "    <tr>\n",
       "      <td>2019-10-14</td>\n",
       "      <td>3</td>\n",
       "      <td>0.855546</td>\n",
       "      <td>0.225112</td>\n",
       "      <td>0.311566</td>\n",
       "    </tr>\n",
       "    <tr>\n",
       "      <td>2019-10-15</td>\n",
       "      <td>3</td>\n",
       "      <td>0.649615</td>\n",
       "      <td>0.630545</td>\n",
       "      <td>0.427537</td>\n",
       "    </tr>\n",
       "    <tr>\n",
       "      <td>2019-10-16</td>\n",
       "      <td>3</td>\n",
       "      <td>0.263025</td>\n",
       "      <td>0.557809</td>\n",
       "      <td>0.546518</td>\n",
       "    </tr>\n",
       "  </tbody>\n",
       "</table>\n",
       "</div>"
      ],
      "text/plain": [
       "            A         B      buba         D\n",
       "2019-10-01  3  0.300000  0.300000  1.200000\n",
       "2019-10-02  3  0.896039  0.637553  0.102936\n",
       "2019-10-03  3  0.338066  0.809526  0.940079\n",
       "2019-10-04  3  0.218964  0.247322  0.880936\n",
       "2019-10-05  3  0.227465  0.510530  0.791399\n",
       "2019-10-06  3  0.104877  0.262396  0.260462\n",
       "2019-10-07  3  0.660303  0.241162  0.764813\n",
       "2019-10-08  3  0.841544  0.221016  0.364391\n",
       "2019-10-09  3  0.030281  0.506326  0.664463\n",
       "2019-10-10  3  0.150880  0.513292  0.247200\n",
       "2019-10-11  3  0.756928  0.930413  0.852314\n",
       "2019-10-12  3  0.548275  0.337590  0.515698\n",
       "2019-10-13  3  0.635733  0.137816  0.067704\n",
       "2019-10-14  3  0.855546  0.225112  0.311566\n",
       "2019-10-15  3  0.649615  0.630545  0.427537\n",
       "2019-10-16  3  0.263025  0.557809  0.546518"
      ]
     },
     "execution_count": 26,
     "metadata": {},
     "output_type": "execute_result"
    }
   ],
   "source": [
    "df.loc[dates[0], 'D']=1.2\n",
    "df.at[dates[0], 'B':'buba']=0.3\n",
    "df['A']=3\n",
    "df"
   ]
  },
  {
   "cell_type": "markdown",
   "metadata": {},
   "source": [
    "### Select data\n",
    "\n",
    "You can perform logical operations on multiple data frame entries at the same time:"
   ]
  },
  {
   "cell_type": "code",
   "execution_count": 29,
   "metadata": {
    "collapsed": false
   },
   "outputs": [
    {
     "data": {
      "text/plain": [
       "2019-10-01    True\n",
       "2019-10-02    True\n",
       "2019-10-03    True\n",
       "2019-10-04    True\n",
       "2019-10-05    True\n",
       "2019-10-06    True\n",
       "2019-10-07    True\n",
       "2019-10-08    True\n",
       "2019-10-09    True\n",
       "2019-10-10    True\n",
       "2019-10-11    True\n",
       "2019-10-12    True\n",
       "2019-10-13    True\n",
       "2019-10-14    True\n",
       "2019-10-15    True\n",
       "2019-10-16    True\n",
       "Freq: D, Name: B, dtype: bool"
      ]
     },
     "execution_count": 29,
     "metadata": {},
     "output_type": "execute_result"
    }
   ],
   "source": [
    "df.B>0"
   ]
  },
  {
   "cell_type": "markdown",
   "metadata": {},
   "source": [
    "Since we can access data with arrays of logical values, then...\n",
    "\n",
    "Explain what happens here:"
   ]
  },
  {
   "cell_type": "code",
   "execution_count": 40,
   "metadata": {
    "collapsed": false
   },
   "outputs": [
    {
     "data": {
      "text/html": [
       "<div>\n",
       "<style scoped>\n",
       "    .dataframe tbody tr th:only-of-type {\n",
       "        vertical-align: middle;\n",
       "    }\n",
       "\n",
       "    .dataframe tbody tr th {\n",
       "        vertical-align: top;\n",
       "    }\n",
       "\n",
       "    .dataframe thead th {\n",
       "        text-align: right;\n",
       "    }\n",
       "</style>\n",
       "<table border=\"1\" class=\"dataframe\">\n",
       "  <thead>\n",
       "    <tr style=\"text-align: right;\">\n",
       "      <th></th>\n",
       "      <th>A</th>\n",
       "      <th>B</th>\n",
       "      <th>buba</th>\n",
       "      <th>D</th>\n",
       "    </tr>\n",
       "  </thead>\n",
       "  <tbody>\n",
       "    <tr>\n",
       "      <td>2019-10-02</td>\n",
       "      <td>3</td>\n",
       "      <td>0.896039</td>\n",
       "      <td>0.637553</td>\n",
       "      <td>0.102936</td>\n",
       "    </tr>\n",
       "    <tr>\n",
       "      <td>2019-10-03</td>\n",
       "      <td>3</td>\n",
       "      <td>0.338066</td>\n",
       "      <td>0.809526</td>\n",
       "      <td>0.940079</td>\n",
       "    </tr>\n",
       "    <tr>\n",
       "      <td>2019-10-07</td>\n",
       "      <td>3</td>\n",
       "      <td>0.660303</td>\n",
       "      <td>0.241162</td>\n",
       "      <td>0.764813</td>\n",
       "    </tr>\n",
       "    <tr>\n",
       "      <td>2019-10-08</td>\n",
       "      <td>3</td>\n",
       "      <td>0.841544</td>\n",
       "      <td>0.221016</td>\n",
       "      <td>0.364391</td>\n",
       "    </tr>\n",
       "    <tr>\n",
       "      <td>2019-10-11</td>\n",
       "      <td>3</td>\n",
       "      <td>0.756928</td>\n",
       "      <td>0.930413</td>\n",
       "      <td>0.852314</td>\n",
       "    </tr>\n",
       "    <tr>\n",
       "      <td>2019-10-12</td>\n",
       "      <td>3</td>\n",
       "      <td>0.548275</td>\n",
       "      <td>0.337590</td>\n",
       "      <td>0.515698</td>\n",
       "    </tr>\n",
       "    <tr>\n",
       "      <td>2019-10-13</td>\n",
       "      <td>3</td>\n",
       "      <td>0.635733</td>\n",
       "      <td>0.137816</td>\n",
       "      <td>0.067704</td>\n",
       "    </tr>\n",
       "    <tr>\n",
       "      <td>2019-10-14</td>\n",
       "      <td>3</td>\n",
       "      <td>0.855546</td>\n",
       "      <td>0.225112</td>\n",
       "      <td>0.311566</td>\n",
       "    </tr>\n",
       "    <tr>\n",
       "      <td>2019-10-15</td>\n",
       "      <td>3</td>\n",
       "      <td>0.649615</td>\n",
       "      <td>0.630545</td>\n",
       "      <td>0.427537</td>\n",
       "    </tr>\n",
       "  </tbody>\n",
       "</table>\n",
       "</div>"
      ],
      "text/plain": [
       "            A         B      buba         D\n",
       "2019-10-02  3  0.896039  0.637553  0.102936\n",
       "2019-10-03  3  0.338066  0.809526  0.940079\n",
       "2019-10-07  3  0.660303  0.241162  0.764813\n",
       "2019-10-08  3  0.841544  0.221016  0.364391\n",
       "2019-10-11  3  0.756928  0.930413  0.852314\n",
       "2019-10-12  3  0.548275  0.337590  0.515698\n",
       "2019-10-13  3  0.635733  0.137816  0.067704\n",
       "2019-10-14  3  0.855546  0.225112  0.311566\n",
       "2019-10-15  3  0.649615  0.630545  0.427537"
      ]
     },
     "execution_count": 40,
     "metadata": {},
     "output_type": "execute_result"
    }
   ],
   "source": [
    "df[df.B>0.3]"
   ]
  },
  {
   "cell_type": "markdown",
   "metadata": {},
   "source": [
    "or here (uncomment each line):"
   ]
  },
  {
   "cell_type": "code",
   "execution_count": 28,
   "metadata": {
    "collapsed": true
   },
   "outputs": [
    {
     "ename": "AttributeError",
     "evalue": "'DataFrame' object has no attribute 'buba'",
     "output_type": "error",
     "traceback": [
      "\u001b[1;31m---------------------------------------------------------------------------\u001b[0m",
      "\u001b[1;31mAttributeError\u001b[0m                            Traceback (most recent call last)",
      "Cell \u001b[1;32mIn [28], line 1\u001b[0m\n\u001b[1;32m----> 1\u001b[0m df[df\u001b[38;5;241m.\u001b[39mB\u001b[38;5;241m+\u001b[39mdf\u001b[38;5;241m.\u001b[39mD\u001b[38;5;241m>\u001b[39m\u001b[38;5;241m=\u001b[39mdf\u001b[38;5;241m.\u001b[39mA\u001b[38;5;241m*\u001b[39m\u001b[43mdf\u001b[49m\u001b[38;5;241;43m.\u001b[39;49m\u001b[43mbuba\u001b[49m]\n\u001b[0;32m      2\u001b[0m df[df\u001b[38;5;241m>\u001b[39m\u001b[38;5;241m.3\u001b[39m]\n\u001b[0;32m      3\u001b[0m df[df\u001b[38;5;241m>\u001b[39m\u001b[38;5;241m.3\u001b[39m]\u001b[38;5;241m.\u001b[39msort_values(by\u001b[38;5;241m=\u001b[39m\u001b[38;5;124m'\u001b[39m\u001b[38;5;124mB\u001b[39m\u001b[38;5;124m'\u001b[39m,na_position\u001b[38;5;241m=\u001b[39m\u001b[38;5;124m'\u001b[39m\u001b[38;5;124mfirst\u001b[39m\u001b[38;5;124m'\u001b[39m)\n",
      "File \u001b[1;32m~\\AppData\\Local\\Programs\\Python\\Python310\\lib\\site-packages\\pandas\\core\\generic.py:5907\u001b[0m, in \u001b[0;36mNDFrame.__getattr__\u001b[1;34m(self, name)\u001b[0m\n\u001b[0;32m   5900\u001b[0m \u001b[38;5;28;01mif\u001b[39;00m (\n\u001b[0;32m   5901\u001b[0m     name \u001b[38;5;129;01mnot\u001b[39;00m \u001b[38;5;129;01min\u001b[39;00m \u001b[38;5;28mself\u001b[39m\u001b[38;5;241m.\u001b[39m_internal_names_set\n\u001b[0;32m   5902\u001b[0m     \u001b[38;5;129;01mand\u001b[39;00m name \u001b[38;5;129;01mnot\u001b[39;00m \u001b[38;5;129;01min\u001b[39;00m \u001b[38;5;28mself\u001b[39m\u001b[38;5;241m.\u001b[39m_metadata\n\u001b[0;32m   5903\u001b[0m     \u001b[38;5;129;01mand\u001b[39;00m name \u001b[38;5;129;01mnot\u001b[39;00m \u001b[38;5;129;01min\u001b[39;00m \u001b[38;5;28mself\u001b[39m\u001b[38;5;241m.\u001b[39m_accessors\n\u001b[0;32m   5904\u001b[0m     \u001b[38;5;129;01mand\u001b[39;00m \u001b[38;5;28mself\u001b[39m\u001b[38;5;241m.\u001b[39m_info_axis\u001b[38;5;241m.\u001b[39m_can_hold_identifiers_and_holds_name(name)\n\u001b[0;32m   5905\u001b[0m ):\n\u001b[0;32m   5906\u001b[0m     \u001b[38;5;28;01mreturn\u001b[39;00m \u001b[38;5;28mself\u001b[39m[name]\n\u001b[1;32m-> 5907\u001b[0m \u001b[38;5;28;01mreturn\u001b[39;00m \u001b[38;5;28;43mobject\u001b[39;49m\u001b[38;5;241;43m.\u001b[39;49m\u001b[38;5;21;43m__getattribute__\u001b[39;49m\u001b[43m(\u001b[49m\u001b[38;5;28;43mself\u001b[39;49m\u001b[43m,\u001b[49m\u001b[43m \u001b[49m\u001b[43mname\u001b[49m\u001b[43m)\u001b[49m\n",
      "\u001b[1;31mAttributeError\u001b[0m: 'DataFrame' object has no attribute 'buba'"
     ]
    }
   ],
   "source": [
    "df[df.B+df.D>=df.A*df.buba]\r\n",
    "df[df>.3]\r\n",
    "df[df>.3].sort_values(by='B',na_position='first')"
   ]
  },
  {
   "cell_type": "markdown",
   "metadata": {},
   "source": [
    "If the data frame contains objects encoded as different types,\n",
    "you can select each type separately.\n",
    "\n",
    "For instance, let's take only categorical variables:"
   ]
  },
  {
   "cell_type": "code",
   "execution_count": 41,
   "metadata": {
    "collapsed": false
   },
   "outputs": [
    {
     "data": {
      "text/html": [
       "<div>\n",
       "<style scoped>\n",
       "    .dataframe tbody tr th:only-of-type {\n",
       "        vertical-align: middle;\n",
       "    }\n",
       "\n",
       "    .dataframe tbody tr th {\n",
       "        vertical-align: top;\n",
       "    }\n",
       "\n",
       "    .dataframe thead th {\n",
       "        text-align: right;\n",
       "    }\n",
       "</style>\n",
       "<table border=\"1\" class=\"dataframe\">\n",
       "  <thead>\n",
       "    <tr style=\"text-align: right;\">\n",
       "      <th></th>\n",
       "      <th>E</th>\n",
       "    </tr>\n",
       "  </thead>\n",
       "  <tbody>\n",
       "    <tr>\n",
       "      <td>0</td>\n",
       "      <td>test</td>\n",
       "    </tr>\n",
       "    <tr>\n",
       "      <td>1</td>\n",
       "      <td>train</td>\n",
       "    </tr>\n",
       "    <tr>\n",
       "      <td>2</td>\n",
       "      <td>test</td>\n",
       "    </tr>\n",
       "    <tr>\n",
       "      <td>3</td>\n",
       "      <td>train</td>\n",
       "    </tr>\n",
       "  </tbody>\n",
       "</table>\n",
       "</div>"
      ],
      "text/plain": [
       "       E\n",
       "0   test\n",
       "1  train\n",
       "2   test\n",
       "3  train"
      ]
     },
     "execution_count": 41,
     "metadata": {},
     "output_type": "execute_result"
    }
   ],
   "source": [
    "df2.select_dtypes(include='category')"
   ]
  },
  {
   "cell_type": "markdown",
   "metadata": {},
   "source": [
    "### Viewing data\n",
    "If the data is too big you might want to have only a glimpse on a couple of instances:"
   ]
  },
  {
   "cell_type": "code",
   "execution_count": 42,
   "metadata": {
    "collapsed": true
   },
   "outputs": [],
   "source": [
    "# df.head()\n",
    "# df.tail(3)"
   ]
  },
  {
   "cell_type": "markdown",
   "metadata": {},
   "source": [
    "or get familiar with the column and row names:"
   ]
  },
  {
   "cell_type": "code",
   "execution_count": 47,
   "metadata": {
    "collapsed": true
   },
   "outputs": [],
   "source": [
    "# df.index\n",
    "# df.columns"
   ]
  },
  {
   "cell_type": "markdown",
   "metadata": {},
   "source": [
    "You might want to have a look at some summary statistics:"
   ]
  },
  {
   "cell_type": "code",
   "execution_count": 43,
   "metadata": {
    "collapsed": false
   },
   "outputs": [
    {
     "data": {
      "text/html": [
       "<div>\n",
       "<style scoped>\n",
       "    .dataframe tbody tr th:only-of-type {\n",
       "        vertical-align: middle;\n",
       "    }\n",
       "\n",
       "    .dataframe tbody tr th {\n",
       "        vertical-align: top;\n",
       "    }\n",
       "\n",
       "    .dataframe thead th {\n",
       "        text-align: right;\n",
       "    }\n",
       "</style>\n",
       "<table border=\"1\" class=\"dataframe\">\n",
       "  <thead>\n",
       "    <tr style=\"text-align: right;\">\n",
       "      <th></th>\n",
       "      <th>A</th>\n",
       "      <th>B</th>\n",
       "      <th>buba</th>\n",
       "      <th>D</th>\n",
       "    </tr>\n",
       "  </thead>\n",
       "  <tbody>\n",
       "    <tr>\n",
       "      <td>count</td>\n",
       "      <td>16.0</td>\n",
       "      <td>16.000000</td>\n",
       "      <td>16.000000</td>\n",
       "      <td>16.000000</td>\n",
       "    </tr>\n",
       "    <tr>\n",
       "      <td>mean</td>\n",
       "      <td>3.0</td>\n",
       "      <td>0.467346</td>\n",
       "      <td>0.441775</td>\n",
       "      <td>0.558626</td>\n",
       "    </tr>\n",
       "    <tr>\n",
       "      <td>std</td>\n",
       "      <td>0.0</td>\n",
       "      <td>0.293482</td>\n",
       "      <td>0.231618</td>\n",
       "      <td>0.327352</td>\n",
       "    </tr>\n",
       "    <tr>\n",
       "      <td>min</td>\n",
       "      <td>3.0</td>\n",
       "      <td>0.030281</td>\n",
       "      <td>0.137816</td>\n",
       "      <td>0.067704</td>\n",
       "    </tr>\n",
       "    <tr>\n",
       "      <td>25%</td>\n",
       "      <td>3.0</td>\n",
       "      <td>0.225340</td>\n",
       "      <td>0.245782</td>\n",
       "      <td>0.298790</td>\n",
       "    </tr>\n",
       "    <tr>\n",
       "      <td>50%</td>\n",
       "      <td>3.0</td>\n",
       "      <td>0.443170</td>\n",
       "      <td>0.421958</td>\n",
       "      <td>0.531108</td>\n",
       "    </tr>\n",
       "    <tr>\n",
       "      <td>75%</td>\n",
       "      <td>3.0</td>\n",
       "      <td>0.684459</td>\n",
       "      <td>0.575993</td>\n",
       "      <td>0.806628</td>\n",
       "    </tr>\n",
       "    <tr>\n",
       "      <td>max</td>\n",
       "      <td>3.0</td>\n",
       "      <td>0.896039</td>\n",
       "      <td>0.930413</td>\n",
       "      <td>1.200000</td>\n",
       "    </tr>\n",
       "  </tbody>\n",
       "</table>\n",
       "</div>"
      ],
      "text/plain": [
       "          A          B       buba          D\n",
       "count  16.0  16.000000  16.000000  16.000000\n",
       "mean    3.0   0.467346   0.441775   0.558626\n",
       "std     0.0   0.293482   0.231618   0.327352\n",
       "min     3.0   0.030281   0.137816   0.067704\n",
       "25%     3.0   0.225340   0.245782   0.298790\n",
       "50%     3.0   0.443170   0.421958   0.531108\n",
       "75%     3.0   0.684459   0.575993   0.806628\n",
       "max     3.0   0.896039   0.930413   1.200000"
      ]
     },
     "execution_count": 43,
     "metadata": {},
     "output_type": "execute_result"
    }
   ],
   "source": [
    "df.describe()"
   ]
  },
  {
   "cell_type": "markdown",
   "metadata": {},
   "source": [
    "Or at least at some of the ones that are of interest:"
   ]
  },
  {
   "cell_type": "code",
   "execution_count": 44,
   "metadata": {
    "collapsed": false
   },
   "outputs": [
    {
     "data": {
      "text/plain": [
       "A       3.000000\n",
       "B       0.467346\n",
       "buba    0.441775\n",
       "D       0.558626\n",
       "dtype: float64"
      ]
     },
     "execution_count": 44,
     "metadata": {},
     "output_type": "execute_result"
    }
   ],
   "source": [
    "# df.sum()\n",
    "# df.count()\n",
    "df.mean()"
   ]
  },
  {
   "cell_type": "markdown",
   "metadata": {},
   "source": [
    "If you haven't loaded Matplotlib (and you should have!)\n",
    "you still have several options to plot the data:"
   ]
  },
  {
   "cell_type": "code",
   "execution_count": 49,
   "metadata": {
    "collapsed": false,
    "scrolled": true
   },
   "outputs": [
    {
     "data": {
      "text/plain": [
       "<matplotlib.axes._subplots.AxesSubplot at 0x8faa248>"
      ]
     },
     "execution_count": 49,
     "metadata": {},
     "output_type": "execute_result"
    },
    {
     "data": {
      "image/png": "[encoded data removed]",
      "text/plain": [
       "<Figure size 432x288 with 1 Axes>"
      ]
     },
     "metadata": {
      "needs_background": "light"
     },
     "output_type": "display_data"
    }
   ],
   "source": [
    "# df.plot.box()\n",
    "# df.plot.hist()\n",
    "df.plot.scatter(x='B',y='D')"
   ]
  }
 ],
 "metadata": {
  "anaconda-cloud": {},
  "kernelspec": {
   "display_name": "Python 3.10.6 64-bit",
   "metadata": {
    "interpreter": {
     "hash": "fe1ceaac486e280189bf0ce10b1c361d86bf450b204a45f9caafbace2e46b60f"
    }
   },
   "name": "python3"
  },
  "language_info": {
   "codemirror_mode": {
    "name": "ipython",
    "version": 3
   },
   "file_extension": ".py",
   "mimetype": "text/x-python",
   "name": "python",
   "nbconvert_exporter": "python",
   "pygments_lexer": "ipython3",
   "version": "3.10.6"
  }
 },
 "nbformat": 4,
 "nbformat_minor": 2
}